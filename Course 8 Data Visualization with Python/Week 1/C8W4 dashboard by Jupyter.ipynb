{
 "cells": [
  {
   "cell_type": "code",
   "execution_count": 1,
   "id": "16485604",
   "metadata": {},
   "outputs": [
    {
     "name": "stdout",
     "output_type": "stream",
     "text": [
      "Collecting jupyter-dash\n",
      "  Downloading jupyter_dash-0.4.2-py3-none-any.whl (23 kB)\n",
      "Collecting retrying\n",
      "  Downloading retrying-1.3.3.tar.gz (10 kB)\n",
      "Requirement already satisfied: ipython in c:\\users\\student236\\anaconda3\\lib\\site-packages (from jupyter-dash) (8.2.0)\n",
      "Requirement already satisfied: flask in c:\\users\\student236\\anaconda3\\lib\\site-packages (from jupyter-dash) (1.1.2)\n",
      "Requirement already satisfied: ipykernel in c:\\users\\student236\\anaconda3\\lib\\site-packages (from jupyter-dash) (6.9.1)\n",
      "Requirement already satisfied: requests in c:\\users\\student236\\anaconda3\\lib\\site-packages (from jupyter-dash) (2.27.1)\n",
      "Collecting dash\n",
      "  Downloading dash-2.6.1-py3-none-any.whl (9.9 MB)\n",
      "Requirement already satisfied: nest-asyncio in c:\\users\\student236\\anaconda3\\lib\\site-packages (from jupyter-dash) (1.5.5)\n",
      "Collecting ansi2html\n",
      "  Downloading ansi2html-1.8.0-py3-none-any.whl (16 kB)\n",
      "Requirement already satisfied: plotly>=5.0.0 in c:\\users\\student236\\anaconda3\\lib\\site-packages (from dash->jupyter-dash) (5.6.0)\n",
      "Collecting dash-table==5.0.0\n",
      "  Downloading dash_table-5.0.0-py3-none-any.whl (3.9 kB)\n",
      "Collecting flask-compress\n",
      "  Downloading Flask_Compress-1.12-py3-none-any.whl (7.9 kB)\n",
      "Collecting dash-html-components==2.0.0\n",
      "  Downloading dash_html_components-2.0.0-py3-none-any.whl (4.1 kB)\n",
      "Collecting dash-core-components==2.0.0\n",
      "  Downloading dash_core_components-2.0.0-py3-none-any.whl (3.8 kB)\n",
      "Requirement already satisfied: click>=5.1 in c:\\users\\student236\\anaconda3\\lib\\site-packages (from flask->jupyter-dash) (8.0.4)\n",
      "Requirement already satisfied: itsdangerous>=0.24 in c:\\users\\student236\\anaconda3\\lib\\site-packages (from flask->jupyter-dash) (2.0.1)\n",
      "Requirement already satisfied: Werkzeug>=0.15 in c:\\users\\student236\\anaconda3\\lib\\site-packages (from flask->jupyter-dash) (2.0.3)\n",
      "Requirement already satisfied: Jinja2>=2.10.1 in c:\\users\\student236\\anaconda3\\lib\\site-packages (from flask->jupyter-dash) (2.11.3)\n",
      "Requirement already satisfied: colorama in c:\\users\\student236\\anaconda3\\lib\\site-packages (from click>=5.1->flask->jupyter-dash) (0.4.4)\n",
      "Requirement already satisfied: MarkupSafe>=0.23 in c:\\users\\student236\\anaconda3\\lib\\site-packages (from Jinja2>=2.10.1->flask->jupyter-dash) (2.0.1)\n",
      "Requirement already satisfied: tenacity>=6.2.0 in c:\\users\\student236\\anaconda3\\lib\\site-packages (from plotly>=5.0.0->dash->jupyter-dash) (8.0.1)\n",
      "Requirement already satisfied: six in c:\\users\\student236\\anaconda3\\lib\\site-packages (from plotly>=5.0.0->dash->jupyter-dash) (1.16.0)\n",
      "Collecting brotli\n",
      "  Downloading Brotli-1.0.9-cp39-cp39-win_amd64.whl (383 kB)\n",
      "Requirement already satisfied: traitlets<6.0,>=5.1.0 in c:\\users\\student236\\anaconda3\\lib\\site-packages (from ipykernel->jupyter-dash) (5.1.1)\n",
      "Requirement already satisfied: debugpy<2.0,>=1.0.0 in c:\\users\\student236\\anaconda3\\lib\\site-packages (from ipykernel->jupyter-dash) (1.5.1)\n",
      "Requirement already satisfied: tornado<7.0,>=4.2 in c:\\users\\student236\\anaconda3\\lib\\site-packages (from ipykernel->jupyter-dash) (6.1)\n",
      "Requirement already satisfied: jupyter-client<8.0 in c:\\users\\student236\\anaconda3\\lib\\site-packages (from ipykernel->jupyter-dash) (6.1.12)\n",
      "Requirement already satisfied: matplotlib-inline<0.2.0,>=0.1.0 in c:\\users\\student236\\anaconda3\\lib\\site-packages (from ipykernel->jupyter-dash) (0.1.2)\n",
      "Requirement already satisfied: setuptools>=18.5 in c:\\users\\student236\\anaconda3\\lib\\site-packages (from ipython->jupyter-dash) (61.2.0)\n",
      "Requirement already satisfied: decorator in c:\\users\\student236\\anaconda3\\lib\\site-packages (from ipython->jupyter-dash) (5.1.1)\n",
      "Requirement already satisfied: pygments>=2.4.0 in c:\\users\\student236\\anaconda3\\lib\\site-packages (from ipython->jupyter-dash) (2.11.2)\n",
      "Requirement already satisfied: jedi>=0.16 in c:\\users\\student236\\anaconda3\\lib\\site-packages (from ipython->jupyter-dash) (0.18.1)\n",
      "Requirement already satisfied: backcall in c:\\users\\student236\\anaconda3\\lib\\site-packages (from ipython->jupyter-dash) (0.2.0)\n",
      "Requirement already satisfied: pickleshare in c:\\users\\student236\\anaconda3\\lib\\site-packages (from ipython->jupyter-dash) (0.7.5)\n",
      "Requirement already satisfied: stack-data in c:\\users\\student236\\anaconda3\\lib\\site-packages (from ipython->jupyter-dash) (0.2.0)\n",
      "Requirement already satisfied: prompt-toolkit!=3.0.0,!=3.0.1,<3.1.0,>=2.0.0 in c:\\users\\student236\\anaconda3\\lib\\site-packages (from ipython->jupyter-dash) (3.0.20)\n",
      "Requirement already satisfied: parso<0.9.0,>=0.8.0 in c:\\users\\student236\\anaconda3\\lib\\site-packages (from jedi>=0.16->ipython->jupyter-dash) (0.8.3)\n",
      "Requirement already satisfied: pyzmq>=13 in c:\\users\\student236\\anaconda3\\lib\\site-packages (from jupyter-client<8.0->ipykernel->jupyter-dash) (22.3.0)\n",
      "Requirement already satisfied: jupyter-core>=4.6.0 in c:\\users\\student236\\anaconda3\\lib\\site-packages (from jupyter-client<8.0->ipykernel->jupyter-dash) (4.9.2)\n",
      "Requirement already satisfied: python-dateutil>=2.1 in c:\\users\\student236\\anaconda3\\lib\\site-packages (from jupyter-client<8.0->ipykernel->jupyter-dash) (2.8.2)\n",
      "Requirement already satisfied: pywin32>=1.0 in c:\\users\\student236\\anaconda3\\lib\\site-packages (from jupyter-core>=4.6.0->jupyter-client<8.0->ipykernel->jupyter-dash) (302)\n",
      "Requirement already satisfied: wcwidth in c:\\users\\student236\\anaconda3\\lib\\site-packages (from prompt-toolkit!=3.0.0,!=3.0.1,<3.1.0,>=2.0.0->ipython->jupyter-dash) (0.2.5)\n",
      "Requirement already satisfied: charset-normalizer~=2.0.0 in c:\\users\\student236\\anaconda3\\lib\\site-packages (from requests->jupyter-dash) (2.0.4)\n",
      "Requirement already satisfied: certifi>=2017.4.17 in c:\\users\\student236\\anaconda3\\lib\\site-packages (from requests->jupyter-dash) (2022.6.15)\n",
      "Requirement already satisfied: urllib3<1.27,>=1.21.1 in c:\\users\\student236\\anaconda3\\lib\\site-packages (from requests->jupyter-dash) (1.26.9)\n",
      "Requirement already satisfied: idna<4,>=2.5 in c:\\users\\student236\\anaconda3\\lib\\site-packages (from requests->jupyter-dash) (3.3)\n",
      "Requirement already satisfied: pure-eval in c:\\users\\student236\\anaconda3\\lib\\site-packages (from stack-data->ipython->jupyter-dash) (0.2.2)\n",
      "Requirement already satisfied: asttokens in c:\\users\\student236\\anaconda3\\lib\\site-packages (from stack-data->ipython->jupyter-dash) (2.0.5)\n",
      "Requirement already satisfied: executing in c:\\users\\student236\\anaconda3\\lib\\site-packages (from stack-data->ipython->jupyter-dash) (0.8.3)\n",
      "Building wheels for collected packages: retrying\n",
      "  Building wheel for retrying (setup.py): started\n",
      "  Building wheel for retrying (setup.py): finished with status 'done'\n",
      "  Created wheel for retrying: filename=retrying-1.3.3-py3-none-any.whl size=11447 sha256=b968dec4ccb7cdcc693b49f0d918e0681f56b584f7e485b70749b5bc32dd32f1\n",
      "  Stored in directory: c:\\users\\student236\\appdata\\local\\pip\\cache\\wheels\\ce\\18\\7f\\e9527e3e66db1456194ac7f61eb3211068c409edceecff2d31\n",
      "Successfully built retrying\n",
      "Installing collected packages: brotli, flask-compress, dash-table, dash-html-components, dash-core-components, retrying, dash, ansi2html, jupyter-dash\n",
      "Successfully installed ansi2html-1.8.0 brotli-1.0.9 dash-2.6.1 dash-core-components-2.0.0 dash-html-components-2.0.0 dash-table-5.0.0 flask-compress-1.12 jupyter-dash-0.4.2 retrying-1.3.3\n"
     ]
    },
    {
     "name": "stderr",
     "output_type": "stream",
     "text": [
      "C:\\Users\\Student236\\AppData\\Local\\Temp\\ipykernel_7624\\1045626142.py:7: UserWarning: \n",
      "The dash_core_components package is deprecated. Please replace\n",
      "`import dash_core_components as dcc` with `from dash import dcc`\n",
      "  import dash_core_components as dcc\n",
      "C:\\Users\\Student236\\AppData\\Local\\Temp\\ipykernel_7624\\1045626142.py:9: UserWarning: \n",
      "The dash_html_components package is deprecated. Please replace\n",
      "`import dash_html_components as html` with `from dash import html`\n",
      "  import dash_html_components as html\n"
     ]
    }
   ],
   "source": [
    "! pip install jupyter-dash\n",
    "import plotly.express as px\n",
    "from jupyter_dash import JupyterDash\n",
    "import dash_core_components as dcc\n",
    "import dash_html_components as html"
   ]
  },
  {
   "cell_type": "code",
   "execution_count": 3,
   "id": "03840b11",
   "metadata": {},
   "outputs": [],
   "source": [
    "import pandas as pd"
   ]
  },
  {
   "cell_type": "code",
   "execution_count": 7,
   "id": "340fd34e",
   "metadata": {},
   "outputs": [
    {
     "name": "stdout",
     "output_type": "stream",
     "text": [
      "Dash app running on http://127.0.0.1:8050/\n"
     ]
    }
   ],
   "source": [
    "app = JupyterDash(__name__)\n",
    "\n",
    "# assume you have a \"long-form\" data frame\n",
    "\n",
    "# see plotly.com/python/px-arguments for more options\n",
    "\n",
    "df = pd.DataFrame({\n",
    "    \"Fruit\": [\"Apples\", \"Oranges\", \"Bananas\", \"Apples\", \"Oranges\", \"Bananas\"],\n",
    "    \"Amount\": [4, 1, 2, 2, 4, 5],\n",
    "    \"City\": [\"SF\", \"SF\", \"SF\", \"Montreal\", \"Montreal\", \"Montreal\"]\n",
    "})\n",
    "\n",
    "fig = px.bar(df, x=\"Fruit\", y=\"Amount\", color=\"City\", barmode=\"group\")\n",
    "\n",
    "app.layout = html.Div(children=[\n",
    "    html.H1(children='Hello Dash'),\n",
    "    html.Div(children='''\n",
    "        Dash: A web application framework for your data.\n",
    "    '''),\n",
    "    dcc.Graph(\n",
    "        id='example-graph',\n",
    "        figure=fig\n",
    "    )\n",
    "])\n",
    "\n",
    "if __name__ == '__main__':\n",
    "    app.run_server(debug=True)\n",
    "    #app.run_server(mode='inline')"
   ]
  },
  {
   "cell_type": "code",
   "execution_count": null,
   "id": "3ae3a59b",
   "metadata": {},
   "outputs": [],
   "source": []
  }
 ],
 "metadata": {
  "kernelspec": {
   "display_name": "Python 3 (ipykernel)",
   "language": "python",
   "name": "python3"
  },
  "language_info": {
   "codemirror_mode": {
    "name": "ipython",
    "version": 3
   },
   "file_extension": ".py",
   "mimetype": "text/x-python",
   "name": "python",
   "nbconvert_exporter": "python",
   "pygments_lexer": "ipython3",
   "version": "3.9.12"
  }
 },
 "nbformat": 4,
 "nbformat_minor": 5
}
