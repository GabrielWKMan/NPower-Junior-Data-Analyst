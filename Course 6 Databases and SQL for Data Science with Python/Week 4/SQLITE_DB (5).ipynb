{
 "cells": [
  {
   "cell_type": "code",
   "execution_count": 1,
   "id": "389fe2f7",
   "metadata": {},
   "outputs": [],
   "source": [
    "# Let's Learn to import library first\n",
    "\n",
    "import sqlite3\n"
   ]
  },
  {
   "cell_type": "code",
   "execution_count": 21,
   "id": "addc7bb7",
   "metadata": {},
   "outputs": [
    {
     "name": "stdout",
     "output_type": "stream",
     "text": [
      "Database connected successfully\n",
      "Number of records:  7\n",
      "[(1, 'Geetu', 34.6, 'hhh', 'D01'), (2, None, 56.7, 'hhh', 'D02'), (101, None, 4000.0, 'Software Developer', 'D01'), (102, 'Alazar', 3500.0, 'Business Analyst', 'D01'), (103, 'Ishan', 4200.0, 'Technical Lead', 'D01'), (104, 'Katie', 4500.0, 'Proffesional Coordinator', 'D02'), (105, 'Jenet', 4500.0, 'Personal Dev', 'D03')]\n",
      "\n",
      "1 Geetu 34.6 \n",
      "2 None 56.7 \n",
      "101 None 4000.0 \n",
      "102 Alazar 3500.0 \n",
      "103 Ishan 4200.0 \n",
      "104 Katie 4500.0 \n",
      "105 Jenet 4500.0 \n"
     ]
    }
   ],
   "source": [
    "sqlconnection=sqlite3.connect(\"C:\\\\Users\\Geetu Sodhi\\\\Desktop\\Teacher.db\")\n",
    "\n",
    "cursor=sqlconnection.cursor()\n",
    "\n",
    "print(\"Database connected successfully\")\n",
    "\n",
    "query=\"\"\" SELECT * FROM Employee \"\"\"\n",
    "\n",
    "cursor.execute(query)\n",
    "    \n",
    "#cursor.fetchall() fetches all the rows of a query result. It returns all the rows as a list of tuples. \n",
    "#An empty list is returned if there is no record to fetch\n",
    "\n",
    "records=cursor.fetchall()\n",
    "    \n",
    "print(\"Number of records: \",len(records))\n",
    "    \n",
    "print(records)\n",
    "print()\n",
    "    \n",
    "for row in records:\n",
    "    print(row[0],end=\" \")\n",
    "    print(row[1],end=\" \")\n",
    "    print(row[2],end=\" \")\n",
    "    print()"
   ]
  },
  {
   "cell_type": "code",
   "execution_count": 26,
   "id": "eb636b2e",
   "metadata": {},
   "outputs": [
    {
     "name": "stdout",
     "output_type": "stream",
     "text": [
      "Database connected successfully\n",
      "Number of records:  1\n",
      "[(105, 'Jenet', 4500.0, 'Personal Dev', 'D03')]\n",
      "\n",
      "105 Jenet 4500.0 Personal Dev D03 \n"
     ]
    }
   ],
   "source": [
    "#We will write our code within try catch block to establish connection (without dataframe)\n",
    "\n",
    "try:\n",
    "    sqlconnection=sqlite3.connect(\"C:\\\\Users\\Geetu Sodhi\\\\Desktop\\Teacher.db\")\n",
    "    cursor=sqlconnection.cursor()\n",
    "    \n",
    "    print(\"Database connected successfully\")\n",
    "    \n",
    "    query=\"\"\"SELECT * FROM Employee where eid=105 \"\"\"\n",
    "    \n",
    "    cursor.execute(query)\n",
    "    \n",
    "#cursor.fetchall() fetches all the rows of a query result. It returns all the rows as a list of tuples. \n",
    "#An empty list is returned if there is no record to fetch\n",
    "\n",
    "    records=cursor.fetchall()\n",
    "    \n",
    "    print(\"Number of records: \",len(records))\n",
    "    \n",
    "    print(records)\n",
    "    print()\n",
    "    \n",
    "    for row in records:\n",
    "        print(row[0],end=\" \")\n",
    "        print(row[1],end=\" \")\n",
    "        print(row[2],end=\" \")\n",
    "        print(row[3],end=\" \")\n",
    "        print(row[4],end=\" \")\n",
    "        print()\n",
    "except sqlite3.Error as error:\n",
    "    print(\"Error\",error.args)\n",
    "finally:\n",
    "    sqlconnection.close()\n"
   ]
  },
  {
   "cell_type": "code",
   "execution_count": 30,
   "id": "d3779da3",
   "metadata": {},
   "outputs": [
    {
     "name": "stdout",
     "output_type": "stream",
     "text": [
      "Database connected successfully\n",
      "   0      1     2    3    4\n",
      "0  1  Geetu  34.6  hhh  D01\n"
     ]
    }
   ],
   "source": [
    "#Lets see the benefit of using dataframe and add a condition\n",
    "\n",
    "import pandas as pd\n",
    "try:\n",
    "    sqlconnection=sqlite3.connect(\"C:\\\\Users\\Geetu Sodhi\\\\Desktop\\Teacher.db\")\n",
    "    cursor=sqlconnection.cursor()\n",
    "    print(\"Database connected successfully\")\n",
    "    query=\"\"\"SELECT * FROM Employee where Name='Geetu' \"\"\"\n",
    "    cursor.execute(query)\n",
    "#cursor.fetchone() method returns a single record or None if no more rows are available.   \n",
    "   \n",
    "    df = pd.DataFrame(cursor.fetchall())\n",
    "    print (df)\n",
    "except sqlite3.Error as error:\n",
    "    print(\"Error\")\n"
   ]
  },
  {
   "cell_type": "code",
   "execution_count": 6,
   "id": "b1b9fe77",
   "metadata": {},
   "outputs": [
    {
     "name": "stdout",
     "output_type": "stream",
     "text": [
      "Database connected successfully\n",
      "   0      1     2    3    4\n",
      "0  1  Geetu  34.6  hhh  D01\n",
      "1  2   None  56.7  hhh  D02\n"
     ]
    }
   ],
   "source": [
    "#Let's learn about Fetchone() and fetchmany()\n",
    "\n",
    "#cursor.fetchmany(size) returns the number of rows specified by size argument. When called repeatedly, \n",
    "#this method fetches the next set of rows of a query result and returns a list of tuples.\n",
    "#If no more rows are available, it returns an empty list.\n",
    "\n",
    "import pandas as pd\n",
    "try:\n",
    "    sqlconnection=sqlite3.connect(\"C:\\\\Users\\Geetu Sodhi\\\\Desktop\\Teacher.db\")\n",
    "    cursor=sqlconnection.cursor()\n",
    "    print(\"Database connected successfully\")\n",
    "    query=\"\"\"SELECT * FROM Employee \"\"\"\n",
    "    cursor.execute(query)\n",
    "    \n",
    "    df = pd.DataFrame(cursor.fetchmany(2))\n",
    "    print (df)\n",
    "except sqlite3.Error as error:\n",
    "    print(\"Error\")\n",
    "\n"
   ]
  },
  {
   "cell_type": "code",
   "execution_count": 35,
   "id": "b6e8241a",
   "metadata": {},
   "outputs": [
    {
     "data": {
      "text/html": [
       "<div>\n",
       "<style scoped>\n",
       "    .dataframe tbody tr th:only-of-type {\n",
       "        vertical-align: middle;\n",
       "    }\n",
       "\n",
       "    .dataframe tbody tr th {\n",
       "        vertical-align: top;\n",
       "    }\n",
       "\n",
       "    .dataframe thead th {\n",
       "        text-align: right;\n",
       "    }\n",
       "</style>\n",
       "<table border=\"1\" class=\"dataframe\">\n",
       "  <thead>\n",
       "    <tr style=\"text-align: right;\">\n",
       "      <th></th>\n",
       "      <th>EID</th>\n",
       "      <th>Name</th>\n",
       "      <th>Salary</th>\n",
       "      <th>JobTitle</th>\n",
       "      <th>DID</th>\n",
       "    </tr>\n",
       "  </thead>\n",
       "  <tbody>\n",
       "    <tr>\n",
       "      <th>0</th>\n",
       "      <td>1</td>\n",
       "      <td>Geetu</td>\n",
       "      <td>34.6</td>\n",
       "      <td>hhh</td>\n",
       "      <td>D01</td>\n",
       "    </tr>\n",
       "    <tr>\n",
       "      <th>1</th>\n",
       "      <td>2</td>\n",
       "      <td>None</td>\n",
       "      <td>56.7</td>\n",
       "      <td>hhh</td>\n",
       "      <td>D02</td>\n",
       "    </tr>\n",
       "    <tr>\n",
       "      <th>2</th>\n",
       "      <td>101</td>\n",
       "      <td>None</td>\n",
       "      <td>4000.0</td>\n",
       "      <td>Software Developer</td>\n",
       "      <td>D01</td>\n",
       "    </tr>\n",
       "    <tr>\n",
       "      <th>3</th>\n",
       "      <td>102</td>\n",
       "      <td>Alazar</td>\n",
       "      <td>3500.0</td>\n",
       "      <td>Business Analyst</td>\n",
       "      <td>D01</td>\n",
       "    </tr>\n",
       "    <tr>\n",
       "      <th>4</th>\n",
       "      <td>103</td>\n",
       "      <td>Ishan</td>\n",
       "      <td>4200.0</td>\n",
       "      <td>Technical Lead</td>\n",
       "      <td>D01</td>\n",
       "    </tr>\n",
       "  </tbody>\n",
       "</table>\n",
       "</div>"
      ],
      "text/plain": [
       "   EID    Name  Salary            JobTitle  DID\n",
       "0    1   Geetu    34.6                 hhh  D01\n",
       "1    2    None    56.7                 hhh  D02\n",
       "2  101    None  4000.0  Software Developer  D01\n",
       "3  102  Alazar  3500.0    Business Analyst  D01\n",
       "4  103   Ishan  4200.0      Technical Lead  D01"
      ]
     },
     "execution_count": 35,
     "metadata": {},
     "output_type": "execute_result"
    }
   ],
   "source": [
    "#Retreiving Column names along with the data\n",
    "\n",
    "connection = sqlite3.connect('C:\\\\Users\\Geetu Sodhi\\\\Desktop\\Teacher.db')\n",
    "cur = connection.cursor()\n",
    "df = pd.read_sql_query('SELECT * FROM Employee',con=connection)\n",
    "df.head()\n"
   ]
  },
  {
   "cell_type": "code",
   "execution_count": 31,
   "id": "df550c44",
   "metadata": {},
   "outputs": [
    {
     "name": "stdout",
     "output_type": "stream",
     "text": [
      "       0          1       2                         3    4\n",
      "0      1      Geetu  6000.0                       hhh  D01\n",
      "1      2       None    56.7                       hhh  D02\n",
      "2    102     Alazar  3500.0          Business Analyst  D01\n",
      "3    103      Ishan  4200.0            Technical Lead  D01\n",
      "4    104      Katie  4500.0  Proffesional Coordinator  D02\n",
      "5    105      Jenet  4500.0              Personal Dev  D03\n",
      "6    111      Geetu  6000.0                       hhh  D01\n",
      "7    112      Nancy  5600.7                       hhh  D02\n",
      "8    115    Olivier  3455.0                QA Analyst  D01\n",
      "9    120    Olivier  3455.0                QA Analyst  D01\n",
      "10   130  Ramandeep  3455.0                QA Analyst  D01\n",
      "11   131       Alex  3465.0              Data Analyst  D01\n",
      "12   141      Geetu  3400.6                       hhh  D01\n",
      "13   412      Nancy  5600.7                       hhh  D02\n",
      "14  1021      Geetu  6000.0                       hhh  D01\n",
      "15  1031      Geetu  6000.0                       hhh  D01\n",
      "16  2022      Nancy  5600.7                       hhh  D02\n",
      "17  2032      Nancy  5600.7                       hhh  D02\n"
     ]
    }
   ],
   "source": [
    "#Adding data to the Exisisitng file\n",
    "\n",
    "import pandas as pd\n",
    "import sqlite3\n",
    "conn=sqlite3.connect(\"C:\\\\Users\\\\Geetu Sodhi\\\\Downloads\\\\Teacher.db\")\n",
    "c = conn.cursor()\n",
    "\n",
    "d={\"EID\":[141,412],\"Name\":[\"Geetu\",\"Nancy\"],\"Salary\":[3400.6,5600.7],\"JobTitle\":[\"hhh\",\"hhh\"],\"DID\":[\"D01\",\"D02\"]}\n",
    "df2=pd.DataFrame(d)\n",
    "\n",
    "df2.to_sql('Employee', conn, if_exists='append', index = False)\n",
    "\n",
    "c.execute(''' Select * from Employee''')\n",
    "\n",
    "df = pd.DataFrame(c.fetchall())\n",
    "print (df)"
   ]
  },
  {
   "cell_type": "code",
   "execution_count": 32,
   "id": "4520007b",
   "metadata": {},
   "outputs": [
    {
     "name": "stdout",
     "output_type": "stream",
     "text": [
      "Record inserted succesfully\n",
      "       0          1       2                         3    4\n",
      "0      1      Geetu  6000.0                       hhh  D01\n",
      "1      2       None    56.7                       hhh  D02\n",
      "2    102     Alazar  3500.0          Business Analyst  D01\n",
      "3    103      Ishan  4200.0            Technical Lead  D01\n",
      "4    104      Katie  4500.0  Proffesional Coordinator  D02\n",
      "5    105      Jenet  4500.0              Personal Dev  D03\n",
      "6    111      Geetu  6000.0                       hhh  D01\n",
      "7    112      Nancy  5600.7                       hhh  D02\n",
      "8    115    Olivier  3455.0                QA Analyst  D01\n",
      "9    120    Olivier  3455.0                QA Analyst  D01\n",
      "10   130  Ramandeep  3455.0                QA Analyst  D01\n",
      "11   131       Alex  3465.0              Data Analyst  D01\n",
      "12   141      Geetu  3400.6                       hhh  D01\n",
      "13   400      Usman  3555.0                QA Analyst  D01\n",
      "14   412      Nancy  5600.7                       hhh  D02\n",
      "15  1021      Geetu  6000.0                       hhh  D01\n",
      "16  1031      Geetu  6000.0                       hhh  D01\n",
      "17  2022      Nancy  5600.7                       hhh  D02\n",
      "18  2032      Nancy  5600.7                       hhh  D02\n"
     ]
    }
   ],
   "source": [
    "#Adding data to the Exsistng file -Let's try with insert command\n",
    "\n",
    "import pandas as pd\n",
    "import sqlite3\n",
    "conn=sqlite3.connect(\"C:\\\\Users\\\\Geetu Sodhi\\\\Downloads\\\\Teacher.db\")\n",
    "c = conn.cursor()\n",
    "\n",
    "sqlquery=\"\"\"   insert into Employee values(400,\"Usman\",3555,\"QA Analyst\",\"D01\")      \"\"\"\n",
    "\n",
    "c.execute(sqlquery)\n",
    "\n",
    "#Committing is very important after insert command otherwise it will not show the result on database\n",
    "\n",
    "conn.commit()\n",
    "\n",
    "print(\"Record inserted succesfully\")\n",
    "\n",
    "c.execute(''' Select * from Employee''')\n",
    "\n",
    "df = pd.DataFrame(c.fetchall())\n",
    "print (df)\n"
   ]
  },
  {
   "cell_type": "code",
   "execution_count": 17,
   "id": "3b209342",
   "metadata": {},
   "outputs": [
    {
     "name": "stdout",
     "output_type": "stream",
     "text": [
      "Record inserted succesfully\n",
      "       0          1       2                         3    4\n",
      "0      1      Geetu  6000.0                       hhh  D01\n",
      "1      2       None    56.7                       hhh  D02\n",
      "2    102     Alazar  3500.0          Business Analyst  D01\n",
      "3    103      Ishan  4200.0            Technical Lead  D01\n",
      "4    104      Katie  4500.0  Proffesional Coordinator  D02\n",
      "5    105      Jenet  4500.0              Personal Dev  D03\n",
      "6    111      Geetu  6000.0                       hhh  D01\n",
      "7    112      Nancy  5600.7                       hhh  D02\n",
      "8    115    Olivier  3455.0                QA Analyst  D01\n",
      "9    120    Olivier  3455.0                QA Analyst  D01\n",
      "10   130  Ramandeep  3455.0                QA Analyst  D01\n",
      "11   131       Alex  3465.0              Data Analyst  D01\n",
      "12  1021      Geetu  6000.0                       hhh  D01\n",
      "13  1031      Geetu  6000.0                       hhh  D01\n",
      "14  2022      Nancy  5600.7                       hhh  D02\n",
      "15  2032      Nancy  5600.7                       hhh  D02\n"
     ]
    }
   ],
   "source": [
    "# Can we add multiple rows at once\n",
    "\n",
    "import pandas as pd\n",
    "import sqlite3\n",
    "conn=sqlite3.connect(\"C:\\\\Users\\\\Geetu Sodhi\\\\Downloads\\\\Teacher.db\")\n",
    "c = conn.cursor()\n",
    "\n",
    "sqlquery=\"\"\"   insert into Employee values(130,\"Ramandeep\",3455,\"QA Analyst\",\"D01\"),(131,\"Alex\",3465,\"Data Analyst\",\"D01\")       \"\"\"\n",
    "\n",
    "c.execute(sqlquery)\n",
    "\n",
    "#Committing is very important after insert command otherwise it will not show the result on database\n",
    "\n",
    "conn.commit()\n",
    "\n",
    "print(\"Record inserted succesfully\")\n",
    "\n",
    "c.execute(''' Select * from Employee''')\n",
    "\n",
    "df = pd.DataFrame(c.fetchall())\n",
    "print (df)\n",
    "\n",
    "\n",
    "\n"
   ]
  },
  {
   "cell_type": "code",
   "execution_count": 36,
   "id": "f662a7d1",
   "metadata": {},
   "outputs": [
    {
     "name": "stdout",
     "output_type": "stream",
     "text": [
      "Enter the name of the person for whom you wish to change the salary: Geetu\n",
      "Enter the salary:10000\n",
      "Record updated succesfully\n",
      "       0          1        2                         3    4\n",
      "0      1      Geetu  10000.0                       hhh  D01\n",
      "1      2       None     56.7                       hhh  D02\n",
      "2    102     Alazar   3500.0          Business Analyst  D01\n",
      "3    103      Ishan   4200.0            Technical Lead  D01\n",
      "4    104      Katie   4500.0  Proffesional Coordinator  D02\n",
      "5    105      Jenet   4500.0              Personal Dev  D03\n",
      "6    111      Geetu  10000.0                       hhh  D01\n",
      "7    112      Nancy   5600.7                       hhh  D02\n",
      "8    115    Olivier   3455.0                QA Analyst  D01\n",
      "9    120    Olivier   3455.0                QA Analyst  D01\n",
      "10   130  Ramandeep   3455.0                QA Analyst  D01\n",
      "11   131       Alex   3465.0              Data Analyst  D01\n",
      "12   141      Geetu  10000.0                       hhh  D01\n",
      "13   400      Usman   3555.0                QA Analyst  D01\n",
      "14   412      Nancy   5600.7                       hhh  D02\n",
      "15  1021      Geetu  10000.0                       hhh  D01\n",
      "16  1031      Geetu  10000.0                       hhh  D01\n",
      "17  2022      Nancy   5600.7                       hhh  D02\n",
      "18  2032      Nancy   5600.7                       hhh  D02\n"
     ]
    }
   ],
   "source": [
    "#Let's learn to update now?\n",
    "\n",
    "import pandas as pd\n",
    "import sqlite3\n",
    "conn=sqlite3.connect(\"C:\\\\Users\\\\Geetu Sodhi\\\\Downloads\\\\Teacher.db\")\n",
    "c = conn.cursor()\n",
    "\n",
    "Name= input(\"Enter the name of the person for whom you wish to change the salary: \")\n",
    "Salary=input(\"Enter the salary:\")\n",
    "\n",
    "sqlquery=\"\"\"  update Employee set salary=? where Name=?      \"\"\"\n",
    "data=(Salary,Name )\n",
    "\n",
    "c.execute(sqlquery,data)\n",
    "\n",
    "#Committing is very important after insert command otherwise it will not show the result on database\n",
    "\n",
    "conn.commit()\n",
    "\n",
    "print(\"Record updated succesfully\")\n",
    "\n",
    "c.execute(''' Select * from Employee''')\n",
    "\n",
    "df = pd.DataFrame(c.fetchall())\n",
    "print (df)\n"
   ]
  },
  {
   "cell_type": "code",
   "execution_count": 37,
   "id": "5c105728",
   "metadata": {},
   "outputs": [
    {
     "name": "stdout",
     "output_type": "stream",
     "text": [
      "Record updated succesfully\n",
      "       0          1        2                         3    4\n",
      "0      1      Geetu  10000.0                       hhh  D01\n",
      "1      2       None     56.7                       hhh  D02\n",
      "2    102     Alazar   3500.0          Business Analyst  D01\n",
      "3    103      Ishan   4200.0            Technical Lead  D01\n",
      "4    104      Katie   4500.0  Proffesional Coordinator  D02\n",
      "5    105      Jenet   4500.0              Personal Dev  D03\n",
      "6    111      Geetu  10000.0                       hhh  D01\n",
      "7    112      Nancy   5600.7                       hhh  D02\n",
      "8    115    Olivier   3455.0                QA Analyst  D01\n",
      "9    120    Olivier   3455.0                QA Analyst  D01\n",
      "10   130  Ramandeep   3455.0                QA Analyst  D01\n",
      "11   131       Alex   3465.0              Data Analyst  D01\n",
      "12   141      Geetu  10000.0                       hhh  D01\n",
      "13   400      Usman   3555.0                QA Analyst  D01\n",
      "14   412      Nancy   5600.7                       hhh  D02\n",
      "15  1021      Geetu  10000.0                       hhh  D01\n",
      "16  1031      Geetu  10000.0                       hhh  D01\n",
      "17  2022      Nancy   5600.7                       hhh  D02\n",
      "18  2032      Nancy   5600.7                       hhh  D02\n"
     ]
    }
   ],
   "source": [
    "#Let's learn to delete now...\n",
    "\n",
    "import pandas as pd\n",
    "import sqlite3\n",
    "conn=sqlite3.connect(\"C:\\\\Users\\\\Geetu Sodhi\\\\Downloads\\\\Teacher.db\")\n",
    "c = conn.cursor()\n",
    "\n",
    "#idd= input(\"Enter the Eid of the person: \")\n",
    "\n",
    "sqlquery=\"\"\"  Delete from Employee where Eid=101      \"\"\"\n",
    "#data=(idd)\n",
    "\n",
    "c.execute(sqlquery)\n",
    "\n",
    "#Committing is very important after insert command otherwise it will not show the result on database\n",
    "\n",
    "conn.commit()\n",
    "\n",
    "print(\"Record updated succesfully\")\n",
    "\n",
    "c.execute(''' Select * from Employee''')\n",
    "\n",
    "df = pd.DataFrame(c.fetchall())\n",
    "print (df)"
   ]
  },
  {
   "cell_type": "code",
   "execution_count": 19,
   "id": "507e7735",
   "metadata": {},
   "outputs": [
    {
     "name": "stdout",
     "output_type": "stream",
     "text": [
      "Database connected successfully\n",
      "Table created succesfully\n"
     ]
    }
   ],
   "source": [
    "#How about creating a new table?  Want to try? lets do it\n",
    "\n",
    "try:\n",
    "    sqlconnection=sqlite3.connect(\"C:\\\\Users\\Geetu Sodhi\\\\Desktop\\Teacher.db\")\n",
    "    cursor=sqlconnection.cursor()\n",
    "    print(\"Database connected successfully\")\n",
    "    query=\"\"\"Create table Projects (PID int PRIMARY KEY, Pname Text, PManager Text); \"\"\"\n",
    "    cursor.execute(query)\n",
    "    sqlconnection.commit()\n",
    "    print(\"Table created succesfully\")\n",
    "except sqlite3.Error as error:\n",
    "    print(\"Error\")\n",
    "finally:\n",
    "    sqlconnection.close()\n",
    "\n"
   ]
  },
  {
   "cell_type": "code",
   "execution_count": null,
   "id": "f09e423d",
   "metadata": {},
   "outputs": [],
   "source": [
    "#Heard about Executemany() .... leaving it for you to explore"
   ]
  }
 ],
 "metadata": {
  "kernelspec": {
   "display_name": "Python 3",
   "language": "python",
   "name": "python3"
  },
  "language_info": {
   "codemirror_mode": {
    "name": "ipython",
    "version": 3
   },
   "file_extension": ".py",
   "mimetype": "text/x-python",
   "name": "python",
   "nbconvert_exporter": "python",
   "pygments_lexer": "ipython3",
   "version": "3.8.8"
  }
 },
 "nbformat": 4,
 "nbformat_minor": 5
}
