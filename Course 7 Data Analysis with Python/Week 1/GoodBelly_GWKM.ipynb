{
 "cells": [
  {
   "cell_type": "code",
   "execution_count": 1,
   "id": "444ba334",
   "metadata": {},
   "outputs": [],
   "source": [
    "import pandas as pd\n",
    "import numpy as np"
   ]
  },
  {
   "cell_type": "code",
   "execution_count": 8,
   "id": "bfced45b",
   "metadata": {},
   "outputs": [],
   "source": [
    "excel_data = pd.read_excel('GoodBelly-DataSet.xlsx', 'Real Data')"
   ]
  },
  {
   "cell_type": "code",
   "execution_count": 15,
   "id": "c713863c",
   "metadata": {},
   "outputs": [],
   "source": [
    "df = pd.DataFrame(excel_data)"
   ]
  },
  {
   "cell_type": "code",
   "execution_count": 16,
   "id": "fe18fcc9",
   "metadata": {},
   "outputs": [
    {
     "name": "stdout",
     "output_type": "stream",
     "text": [
      "1386\n"
     ]
    }
   ],
   "source": [
    "# 1 Find how many records this data frame has;\n",
    "print(len(df))"
   ]
  },
  {
   "cell_type": "code",
   "execution_count": 17,
   "id": "8c90e3a1",
   "metadata": {},
   "outputs": [
    {
     "name": "stdout",
     "output_type": "stream",
     "text": [
      "12\n"
     ]
    }
   ],
   "source": [
    "# 2 How many elements are there?\n",
    "print(len(df.columns))"
   ]
  },
  {
   "cell_type": "code",
   "execution_count": 18,
   "id": "e2c3cae4",
   "metadata": {},
   "outputs": [
    {
     "name": "stdout",
     "output_type": "stream",
     "text": [
      "Index(['Date', 'Region', 'Store', 'Units Sold', 'Average Retail Price',\n",
      "       'Sales Rep', 'Endcap', 'Demo', 'Demo1-3', 'Demo4-5', 'Natural',\n",
      "       'Fitness'],\n",
      "      dtype='object')\n"
     ]
    }
   ],
   "source": [
    "# 3 What are the column names?\n",
    "print(df.columns)"
   ]
  },
  {
   "cell_type": "code",
   "execution_count": 29,
   "id": "47cab86e",
   "metadata": {},
   "outputs": [
    {
     "name": "stdout",
     "output_type": "stream",
     "text": [
      "Date                    datetime64[ns]\n",
      "Region                          object\n",
      "Store                           object\n",
      "Units Sold                     float64\n",
      "Average Retail Price           float64\n",
      "Sales Rep                      float64\n",
      "Endcap                         float64\n",
      "Demo                           float64\n",
      "Demo1-3                        float64\n",
      "Demo4-5                        float64\n",
      "Natural                        float64\n",
      "Fitness                        float64\n",
      "dtype: object\n"
     ]
    }
   ],
   "source": [
    "# 4 What types of columns do we have in this data frame?\n",
    "print(df.dtypes)"
   ]
  },
  {
   "cell_type": "code",
   "execution_count": 31,
   "id": "cdd68d9b",
   "metadata": {},
   "outputs": [
    {
     "name": "stdout",
     "output_type": "stream",
     "text": [
      "        Units Sold  Average Retail Price    Sales Rep       Endcap  \\\n",
      "count  1386.000000           1386.000000  1386.000000  1386.000000   \n",
      "mean    253.820718              4.107093     0.549784     0.038240   \n",
      "std     110.998731              0.463828     0.497695     0.191843   \n",
      "min      47.559852              2.889286     0.000000     0.000000   \n",
      "25%     189.995471              3.775714     0.000000     0.000000   \n",
      "50%     236.735266              4.096667     1.000000     0.000000   \n",
      "75%     295.804391              4.425067     1.000000     0.000000   \n",
      "max    1041.200256              6.251538     1.000000     1.000000   \n",
      "\n",
      "              Demo      Demo1-3      Demo4-5      Natural      Fitness  \n",
      "count  1386.000000  1386.000000  1386.000000  1386.000000  1386.000000  \n",
      "mean      0.058442     0.156566     0.075758     1.448773     2.476190  \n",
      "std       0.234661     0.363522     0.264705     0.975092     1.592789  \n",
      "min       0.000000     0.000000     0.000000     0.000000     0.000000  \n",
      "25%       0.000000     0.000000     0.000000     1.000000     1.000000  \n",
      "50%       0.000000     0.000000     0.000000     1.000000     2.000000  \n",
      "75%       0.000000     0.000000     0.000000     2.000000     4.000000  \n",
      "max       1.000000     1.000000     1.000000     4.000000     5.000000  \n",
      "<class 'pandas.core.frame.DataFrame'>\n",
      "RangeIndex: 1386 entries, 0 to 1385\n",
      "Data columns (total 12 columns):\n",
      " #   Column                Non-Null Count  Dtype         \n",
      "---  ------                --------------  -----         \n",
      " 0   Date                  1386 non-null   datetime64[ns]\n",
      " 1   Region                1243 non-null   object        \n",
      " 2   Store                 1386 non-null   object        \n",
      " 3   Units Sold            1386 non-null   float64       \n",
      " 4   Average Retail Price  1386 non-null   float64       \n",
      " 5   Sales Rep             1386 non-null   float64       \n",
      " 6   Endcap                1386 non-null   float64       \n",
      " 7   Demo                  1386 non-null   float64       \n",
      " 8   Demo1-3               1386 non-null   float64       \n",
      " 9   Demo4-5               1386 non-null   float64       \n",
      " 10  Natural               1386 non-null   float64       \n",
      " 11  Fitness               1386 non-null   float64       \n",
      "dtypes: datetime64[ns](1), float64(9), object(2)\n",
      "memory usage: 130.1+ KB\n",
      "None\n"
     ]
    }
   ],
   "source": [
    "# 5 Give the summary for the numeric columns in the dataset\n",
    "print(df.describe())\n",
    "print(df.info())"
   ]
  },
  {
   "cell_type": "code",
   "execution_count": 27,
   "id": "a3a475d7",
   "metadata": {},
   "outputs": [
    {
     "name": "stderr",
     "output_type": "stream",
     "text": [
      "C:\\Users\\Student236\\AppData\\Local\\Temp\\ipykernel_12636\\1301530713.py:2: FutureWarning: Dropping of nuisance columns in DataFrame reductions (with 'numeric_only=None') is deprecated; in a future version this will raise TypeError.  Select only valid columns before calling the reduction.\n",
      "  df.std()\n"
     ]
    },
    {
     "data": {
      "text/plain": [
       "Date                    22 days 03:27:15.853934319\n",
       "Units Sold                              110.998731\n",
       "Average Retail Price                      0.463828\n",
       "Sales Rep                                 0.497695\n",
       "Endcap                                    0.191843\n",
       "Demo                                      0.234661\n",
       "Demo1-3                                   0.363522\n",
       "Demo4-5                                   0.264705\n",
       "Natural                                   0.975092\n",
       "Fitness                                   1.592789\n",
       "dtype: object"
      ]
     },
     "execution_count": 27,
     "metadata": {},
     "output_type": "execute_result"
    }
   ],
   "source": [
    "# 6 Calculate standard deviation for all numeric columns;\n",
    "df.std()"
   ]
  },
  {
   "cell_type": "code",
   "execution_count": 32,
   "id": "68a9b477",
   "metadata": {},
   "outputs": [
    {
     "name": "stderr",
     "output_type": "stream",
     "text": [
      "C:\\Users\\Student236\\AppData\\Local\\Temp\\ipykernel_12636\\1155771948.py:2: FutureWarning: DataFrame.mean and DataFrame.median with numeric_only=None will include datetime64 and datetime64tz columns in a future version.\n",
      "  df.head(50).mean()\n",
      "C:\\Users\\Student236\\AppData\\Local\\Temp\\ipykernel_12636\\1155771948.py:2: FutureWarning: Dropping of nuisance columns in DataFrame reductions (with 'numeric_only=None') is deprecated; in a future version this will raise TypeError.  Select only valid columns before calling the reduction.\n",
      "  df.head(50).mean()\n"
     ]
    },
    {
     "data": {
      "text/plain": [
       "Units Sold              186.280727\n",
       "Average Retail Price      4.128036\n",
       "Sales Rep                 0.000000\n",
       "Endcap                    0.100000\n",
       "Demo                      0.000000\n",
       "Demo1-3                   0.000000\n",
       "Demo4-5                   0.040000\n",
       "Natural                   1.300000\n",
       "Fitness                   1.560000\n",
       "dtype: float64"
      ]
     },
     "execution_count": 32,
     "metadata": {},
     "output_type": "execute_result"
    }
   ],
   "source": [
    "# 7 What are the mean values of the first 50 records in the dataset?   Hint: use head() method to subset the first 50 records and then calculate the mean\n",
    "df.head(50).mean()"
   ]
  }
 ],
 "metadata": {
  "kernelspec": {
   "display_name": "Python 3 (ipykernel)",
   "language": "python",
   "name": "python3"
  },
  "language_info": {
   "codemirror_mode": {
    "name": "ipython",
    "version": 3
   },
   "file_extension": ".py",
   "mimetype": "text/x-python",
   "name": "python",
   "nbconvert_exporter": "python",
   "pygments_lexer": "ipython3",
   "version": "3.9.12"
  }
 },
 "nbformat": 4,
 "nbformat_minor": 5
}
