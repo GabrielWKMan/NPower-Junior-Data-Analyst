{
 "cells": [
  {
   "cell_type": "code",
   "execution_count": 1,
   "id": "f4dc86b7",
   "metadata": {},
   "outputs": [
    {
     "name": "stdout",
     "output_type": "stream",
     "text": [
      "3.9.12\n"
     ]
    }
   ],
   "source": [
    "from platform import python_version\n",
    "print(python_version())"
   ]
  },
  {
   "cell_type": "code",
   "execution_count": 49,
   "id": "9b90e483",
   "metadata": {},
   "outputs": [
    {
     "name": "stdout",
     "output_type": "stream",
     "text": [
      "customer id =513\n"
     ]
    }
   ],
   "source": [
    "id=\"513\"\n",
    "print(\"customer id =\"+id)"
   ]
  },
  {
   "cell_type": "code",
   "execution_count": 15,
   "id": "f08e1d9d",
   "metadata": {},
   "outputs": [],
   "source": [
    "# type of id is string, it cannot be added to numbers."
   ]
  },
  {
   "cell_type": "code",
   "execution_count": 47,
   "id": "1b8c6273",
   "metadata": {},
   "outputs": [
    {
     "name": "stdout",
     "output_type": "stream",
     "text": [
      "514\n"
     ]
    }
   ],
   "source": [
    "new_id=int(id)+1\n",
    "print(new_id)"
   ]
  },
  {
   "cell_type": "code",
   "execution_count": 50,
   "id": "d6f8e57c",
   "metadata": {},
   "outputs": [
    {
     "name": "stdout",
     "output_type": "stream",
     "text": [
      "Twinkle, twinkle, little star,\n",
      "\tHow I wonder what you are!\n",
      "\t\tUp above the world so high,\n",
      "\t\t\tLike a diamond in the sky.\n"
     ]
    }
   ],
   "source": [
    "print(\"Twinkle, twinkle, little star,\")\n",
    "print(\"\\tHow I wonder what you are!\")\n",
    "print(\"\\t\\tUp above the world so high,\")\n",
    "print(\"\\t\\t\\tLike a diamond in the sky.\")"
   ]
  },
  {
   "cell_type": "code",
   "execution_count": 2,
   "id": "1c421ef4",
   "metadata": {},
   "outputs": [
    {
     "name": "stdout",
     "output_type": "stream",
     "text": [
      "P\n"
     ]
    }
   ],
   "source": [
    "course=\"Python for Data Science\"\n",
    "print(course[0])"
   ]
  },
  {
   "cell_type": "code",
   "execution_count": 22,
   "id": "2e837c0b",
   "metadata": {},
   "outputs": [
    {
     "name": "stdout",
     "output_type": "stream",
     "text": [
      "t\n"
     ]
    }
   ],
   "source": [
    "print(course[13])"
   ]
  },
  {
   "cell_type": "code",
   "execution_count": 23,
   "id": "96c26d2b",
   "metadata": {},
   "outputs": [
    {
     "data": {
      "text/plain": [
       "23"
      ]
     },
     "execution_count": 23,
     "metadata": {},
     "output_type": "execute_result"
    }
   ],
   "source": [
    "len(course)"
   ]
  },
  {
   "cell_type": "code",
   "execution_count": 7,
   "id": "c91d4578",
   "metadata": {},
   "outputs": [
    {
     "name": "stdout",
     "output_type": "stream",
     "text": [
      "e\n"
     ]
    }
   ],
   "source": [
    "print(course[-1])"
   ]
  },
  {
   "cell_type": "code",
   "execution_count": 29,
   "id": "e95decfd",
   "metadata": {},
   "outputs": [
    {
     "name": "stdout",
     "output_type": "stream",
     "text": [
      "Data\n"
     ]
    }
   ],
   "source": [
    "print(course[11:15])"
   ]
  },
  {
   "cell_type": "code",
   "execution_count": 53,
   "id": "02b4acad",
   "metadata": {},
   "outputs": [
    {
     "name": "stdout",
     "output_type": "stream",
     "text": [
      "Ph ra i\n"
     ]
    }
   ],
   "source": [
    "print(course[0:21:3])"
   ]
  },
  {
   "cell_type": "code",
   "execution_count": 3,
   "id": "f2434ad0",
   "metadata": {},
   "outputs": [
    {
     "data": {
      "text/plain": [
       "'Python for Data Science, AI & Development'"
      ]
     },
     "execution_count": 3,
     "metadata": {},
     "output_type": "execute_result"
    }
   ],
   "source": [
    "course2=course+\", AI & Development\"\n",
    "course2"
   ]
  },
  {
   "cell_type": "code",
   "execution_count": 4,
   "id": "51586cc5",
   "metadata": {},
   "outputs": [
    {
     "data": {
      "text/plain": [
       "'Python_for_Data_Science,_AI_&_Development'"
      ]
     },
     "execution_count": 4,
     "metadata": {},
     "output_type": "execute_result"
    }
   ],
   "source": [
    "course3=course2.replace(\" \",\"_\")\n",
    "course3"
   ]
  },
  {
   "cell_type": "code",
   "execution_count": 5,
   "id": "80138fd3",
   "metadata": {},
   "outputs": [
    {
     "data": {
      "text/plain": [
       "'PYTHON_FOR_DATA_SCIENCE,_AI_&_DEVELOPMENT'"
      ]
     },
     "execution_count": 5,
     "metadata": {},
     "output_type": "execute_result"
    }
   ],
   "source": [
    "course4=course3.upper()\n",
    "course4"
   ]
  },
  {
   "cell_type": "code",
   "execution_count": null,
   "id": "a7a600a2",
   "metadata": {},
   "outputs": [],
   "source": []
  }
 ],
 "metadata": {
  "kernelspec": {
   "display_name": "Python 3 (ipykernel)",
   "language": "python",
   "name": "python3"
  },
  "language_info": {
   "codemirror_mode": {
    "name": "ipython",
    "version": 3
   },
   "file_extension": ".py",
   "mimetype": "text/x-python",
   "name": "python",
   "nbconvert_exporter": "python",
   "pygments_lexer": "ipython3",
   "version": "3.9.12"
  }
 },
 "nbformat": 4,
 "nbformat_minor": 5
}
