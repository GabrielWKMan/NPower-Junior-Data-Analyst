{
 "cells": [
  {
   "cell_type": "code",
   "execution_count": 2,
   "id": "0d8044af",
   "metadata": {},
   "outputs": [
    {
     "data": {
      "text/plain": [
       "('Ahkil', 'Farnaz', 'Kisshan', 'Oleg', 'Revathy', 'Gabriel')"
      ]
     },
     "execution_count": 2,
     "metadata": {},
     "output_type": "execute_result"
    }
   ],
   "source": [
    "#Q1\n",
    "tup = ('Ahkil', 'Farnaz', 'Kisshan', 'Oleg', 'Revathy', 'Gabriel')\n",
    "tup"
   ]
  },
  {
   "cell_type": "code",
   "execution_count": 18,
   "id": "cc1292d9",
   "metadata": {},
   "outputs": [
    {
     "data": {
      "text/plain": [
       "['Ahkil', 'Farnaz', 'Kisshan', 'Oleg', 'Revathy', 'Gabriel']"
      ]
     },
     "execution_count": 18,
     "metadata": {},
     "output_type": "execute_result"
    }
   ],
   "source": [
    "#Q2\n",
    "pps_L = list(tup)\n",
    "pps_L"
   ]
  },
  {
   "cell_type": "code",
   "execution_count": 5,
   "id": "0f07551d",
   "metadata": {},
   "outputs": [
    {
     "data": {
      "text/plain": [
       "6"
      ]
     },
     "execution_count": 5,
     "metadata": {},
     "output_type": "execute_result"
    }
   ],
   "source": [
    "#Q3\n",
    "len(pps_L)"
   ]
  },
  {
   "cell_type": "code",
   "execution_count": 14,
   "id": "61cb38cd",
   "metadata": {},
   "outputs": [
    {
     "name": "stdout",
     "output_type": "stream",
     "text": [
      "Oleg\n",
      "Gabriel\n",
      "Index 14 is not found\n",
      "Index 30 is not found\n",
      "Index 38 is not found\n"
     ]
    }
   ],
   "source": [
    "#Q4\n",
    "ind = [3, 5, 14, 30, 38]\n",
    "for i in ind:\n",
    "    if i < len(pps_L):\n",
    "        print(pps_L[i])\n",
    "    else:\n",
    "        print(\"Index\", i, \"is not found\")"
   ]
  },
  {
   "cell_type": "code",
   "execution_count": 15,
   "id": "edfe33df",
   "metadata": {},
   "outputs": [
    {
     "data": {
      "text/plain": [
       "False"
      ]
     },
     "execution_count": 15,
     "metadata": {},
     "output_type": "execute_result"
    }
   ],
   "source": [
    "#Q5\n",
    "'Sarah' in pps_L"
   ]
  },
  {
   "cell_type": "code",
   "execution_count": 19,
   "id": "550082cf",
   "metadata": {},
   "outputs": [
    {
     "data": {
      "text/plain": [
       "['Ahkil', 'Farnaz', 'Kisshan', 'Oleg', 'Revathy', 'Gabriel', 'Sarah']"
      ]
     },
     "execution_count": 19,
     "metadata": {},
     "output_type": "execute_result"
    }
   ],
   "source": [
    "#Q6\n",
    "pps_L.append('Sarah')\n",
    "pps_L"
   ]
  },
  {
   "cell_type": "code",
   "execution_count": 20,
   "id": "c92f338f",
   "metadata": {},
   "outputs": [
    {
     "data": {
      "text/plain": [
       "False"
      ]
     },
     "execution_count": 20,
     "metadata": {},
     "output_type": "execute_result"
    }
   ],
   "source": [
    "#Q7\n",
    "'Bashir' in pps_L"
   ]
  },
  {
   "cell_type": "code",
   "execution_count": 21,
   "id": "fc7740fe",
   "metadata": {},
   "outputs": [
    {
     "data": {
      "text/plain": [
       "['Ahkil', 'Farnaz', 'Kisshan', 'Oleg', 'Revathy', 'Gabriel', 'Sarah', 'Bashir']"
      ]
     },
     "execution_count": 21,
     "metadata": {},
     "output_type": "execute_result"
    }
   ],
   "source": [
    "#Q9\n",
    "pps_L.append('Bashir')\n",
    "pps_L"
   ]
  },
  {
   "cell_type": "code",
   "execution_count": 23,
   "id": "0e3b6895",
   "metadata": {},
   "outputs": [
    {
     "data": {
      "text/plain": [
       "6"
      ]
     },
     "execution_count": 23,
     "metadata": {},
     "output_type": "execute_result"
    }
   ],
   "source": [
    "#Q10\n",
    "pps_L.index('Sarah')"
   ]
  },
  {
   "cell_type": "code",
   "execution_count": 24,
   "id": "dce65956",
   "metadata": {},
   "outputs": [
    {
     "data": {
      "text/plain": [
       "['Ahkil',\n",
       " 'Farnaz',\n",
       " 'Kisshan',\n",
       " 'Oleg',\n",
       " 'Revathy',\n",
       " 'Gabriel',\n",
       " 'Instructor',\n",
       " 'Bashir']"
      ]
     },
     "execution_count": 24,
     "metadata": {},
     "output_type": "execute_result"
    }
   ],
   "source": [
    "#Q11\n",
    "pps_L[6] = 'Instructor'\n",
    "pps_L"
   ]
  },
  {
   "cell_type": "code",
   "execution_count": 25,
   "id": "5757ace6",
   "metadata": {},
   "outputs": [
    {
     "data": {
      "text/plain": [
       "7"
      ]
     },
     "execution_count": 25,
     "metadata": {},
     "output_type": "execute_result"
    }
   ],
   "source": [
    "#Q12\n",
    "pps_L.index('Bashir')"
   ]
  },
  {
   "cell_type": "code",
   "execution_count": 26,
   "id": "90451a69",
   "metadata": {},
   "outputs": [
    {
     "data": {
      "text/plain": [
       "['Ahkil',\n",
       " 'Farnaz',\n",
       " 'Kisshan',\n",
       " 'Oleg',\n",
       " 'Revathy',\n",
       " 'Gabriel',\n",
       " 'Instructor',\n",
       " 'Peer-Mentor']"
      ]
     },
     "execution_count": 26,
     "metadata": {},
     "output_type": "execute_result"
    }
   ],
   "source": [
    "pps_L[7] = 'Peer-Mentor'\n",
    "pps_L"
   ]
  },
  {
   "cell_type": "code",
   "execution_count": null,
   "id": "6b02dd16",
   "metadata": {},
   "outputs": [],
   "source": []
  }
 ],
 "metadata": {
  "kernelspec": {
   "display_name": "Python 3 (ipykernel)",
   "language": "python",
   "name": "python3"
  },
  "language_info": {
   "codemirror_mode": {
    "name": "ipython",
    "version": 3
   },
   "file_extension": ".py",
   "mimetype": "text/x-python",
   "name": "python",
   "nbconvert_exporter": "python",
   "pygments_lexer": "ipython3",
   "version": "3.9.12"
  }
 },
 "nbformat": 4,
 "nbformat_minor": 5
}
