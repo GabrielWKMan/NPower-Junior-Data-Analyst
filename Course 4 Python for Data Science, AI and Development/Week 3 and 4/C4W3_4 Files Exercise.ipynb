{
 "cells": [
  {
   "cell_type": "code",
   "execution_count": 81,
   "id": "ce465c80",
   "metadata": {},
   "outputs": [
    {
     "data": {
      "text/plain": [
       "'In this section, we will use Python\\'s built-in open function to create a file \\nand obtain the data from a \"txt\" file. \\nWe will use Python\\'s open function to get a file object. \\nWe can apply a method to that object to read data from the file. \\nThe first argument is the file path, the second parameter is the mode.'"
      ]
     },
     "execution_count": 81,
     "metadata": {},
     "output_type": "execute_result"
    }
   ],
   "source": [
    "#Q1 Create a text file called mytxt.txt\n",
    "# Save the following content in the text file:\n",
    "# \"In this section, we will use Python's built-in open function to create a file\n",
    "# and obtain the data from a \"txt\" file.\n",
    "# We will use Python's open function to get a file object.\n",
    "# We can apply a method to that object to read data from the file.\n",
    "# The first argument is the file path, the second parameter is the mode.\"\n",
    "\n",
    "pretxt = \"In this section, we will use Python's built-in open function to create a file \\nand obtain the data from a \\\"txt\\\" file. \\nWe will use Python's open function to get a file object. \\nWe can apply a method to that object to read data from the file. \\nThe first argument is the file path, the second parameter is the mode.\"\n",
    "mytxt = open('mytxt.txt','w+')\n",
    "mytxt.write(pretxt)\n",
    "mytxt.seek(0)\n",
    "mytxt.read()"
   ]
  },
  {
   "cell_type": "code",
   "execution_count": 41,
   "id": "0b356a47",
   "metadata": {},
   "outputs": [
    {
     "name": "stdout",
     "output_type": "stream",
     "text": [
      "In this section, we will use Python's built-in open function to create a file \n",
      "and obtain the data from a \"txt\" file. \n",
      "We will use Python's open function to get a file object. \n",
      "We can apply a method to that object to read data from the file. \n",
      "The first argument is the file path, the second parameter is the mode.\n"
     ]
    },
    {
     "data": {
      "text/plain": [
       "True"
      ]
     },
     "execution_count": 41,
     "metadata": {},
     "output_type": "execute_result"
    }
   ],
   "source": [
    "#Q1 Write a Python program to read the entire mytxt file\n",
    "\n",
    "readFile = open('mytxt.txt','r')\n",
    "print(readFile.read())\n",
    "readFile.close()\n",
    "readFile.closed"
   ]
  },
  {
   "cell_type": "code",
   "execution_count": 42,
   "id": "c484da51",
   "metadata": {},
   "outputs": [
    {
     "name": "stdout",
     "output_type": "stream",
     "text": [
      "We will use Python's open function to get a file object. \n",
      "\n",
      "We can apply a method to that object to read data from the file. \n",
      "\n",
      "The first argument is the file path, the second parameter is the mode.\n"
     ]
    }
   ],
   "source": [
    "#Q2 Write a Python program to read last 3 lines of mytxt file\n",
    "\n",
    "with open('mytxt.txt','r') as fileContent:\n",
    "    fileLines = fileContent.readlines()\n",
    "    lines = fileLines[-3:]\n",
    "    lines2Str = '\\n'.join(map(str, lines))\n",
    "    print(lines2Str)"
   ]
  },
  {
   "cell_type": "code",
   "execution_count": 59,
   "id": "35ee06b5",
   "metadata": {},
   "outputs": [
    {
     "name": "stdout",
     "output_type": "stream",
     "text": [
      "Read last n lines of mytxt file: 2\n",
      "We can apply a method to that object to read data from the file. \n",
      "\n",
      "The first argument is the file path, the second parameter is the mode.\n"
     ]
    }
   ],
   "source": [
    "#Q3 Write a Python program to read last n lines of mytxt file\n",
    "#[Hint: write a function]\n",
    "\n",
    "def readLastNLines(a):\n",
    "    with open('mytxt.txt','r') as readLastNFile:\n",
    "        lines = readLastNFile.readlines()[-a:]\n",
    "        lines2Str = '\\n'.join(map(str, lines))\n",
    "        return lines2Str\n",
    "        \n",
    "n=int(input(f\"Read last n lines of mytxt file: \"))\n",
    "print(readLastNLines(n))"
   ]
  },
  {
   "cell_type": "code",
   "execution_count": 58,
   "id": "2b0e2f4d",
   "metadata": {},
   "outputs": [
    {
     "name": "stdout",
     "output_type": "stream",
     "text": [
      "Number of lines in mytxt file: 5\n"
     ]
    }
   ],
   "source": [
    "#Q4 count the number of lines in mytxt file\n",
    "\n",
    "with open('mytxt.txt','r') as readFile:\n",
    "        lines = readFile.readlines()\n",
    "        print('Number of lines in mytxt file:', len(lines))"
   ]
  },
  {
   "cell_type": "code",
   "execution_count": 60,
   "id": "d410d1b6",
   "metadata": {},
   "outputs": [],
   "source": [
    "#Q5 Write a Python program to generate 26 text files named A.txt, B.txt,... Z.txt\n",
    "\n",
    "import string, os\n",
    "for letter in string.ascii_uppercase:\n",
    "    open(letter + '.txt', 'x') \n",
    "\n",
    "# import string, os\n",
    "# if not os.path.exists(\"letters\"):\n",
    "#    os.makedirs(\"letters\")\n",
    "# for letter in string.ascii_uppercase:\n",
    "#    with open(letter + \".txt\", \"w\") as f:\n",
    "#        f.writelines(letter)"
   ]
  },
  {
   "cell_type": "code",
   "execution_count": 82,
   "id": "8d1cfd72",
   "metadata": {},
   "outputs": [
    {
     "name": "stdout",
     "output_type": "stream",
     "text": [
      "In this section, we will use Python's built-in open function to create a file \n",
      "and obtain the data from a \"txt\" file. \n",
      "We will use Python's open function to get a file object. \n",
      "We can apply a method to that object to read data from the file. \n",
      "The first argument is the file path, the second parameter is the mode.\n",
      "End of file\n"
     ]
    }
   ],
   "source": [
    "#Q6 Write a Python program to append \"End of file\" to mytxt file and\n",
    "# display the text\n",
    "\n",
    "with open('mytxt.txt','a+') as appendFile:\n",
    "    appendFile.write(\"\\nEnd of file\")\n",
    "    appendFile.seek(0)\n",
    "    newContent=appendFile.read()\n",
    "    print(newContent)"
   ]
  },
  {
   "cell_type": "code",
   "execution_count": 84,
   "id": "e4d5adaf",
   "metadata": {},
   "outputs": [
    {
     "name": "stdout",
     "output_type": "stream",
     "text": [
      "In this section, we will use Python's built-in open function to create a file and obtain the data from a \"txt\" file. We will use Python's open function to get a file object. We can apply a method to that object to read data from the file. The first argument is the file path, the second parameter is the mode.End of file\n"
     ]
    }
   ],
   "source": [
    "#Q7 Write a Python program to remove newline characters from mytxt file\n",
    "\n",
    "def removeNewLineChar(text):\n",
    "    with open(text,'r+') as readFile:\n",
    "        fileContent=readFile.read()\n",
    "        removeN = fileContent.replace('\\n','')\n",
    "    return removeN\n",
    "        \n",
    "print(removeNewLineChar('mytxt.txt'))"
   ]
  },
  {
   "cell_type": "code",
   "execution_count": 88,
   "id": "d4ac1a74",
   "metadata": {},
   "outputs": [
    {
     "name": "stdout",
     "output_type": "stream",
     "text": [
      "parameter\n"
     ]
    }
   ],
   "source": [
    "# Q8 Write a python program to find the longest word in mytxt file\n",
    "\n",
    "def longestWord(text):\n",
    "    with open(text,'r') as readFile:\n",
    "        fileContent=readFile.read()\n",
    "        words=fileContent.split()\n",
    "        i=0\n",
    "        for word in words:\n",
    "            if len(word)>i:\n",
    "                longest_word=word\n",
    "                i=len(word)\n",
    "    return longest_word\n",
    "    \n",
    "print(longestWord('mytxt.txt'))"
   ]
  },
  {
   "cell_type": "code",
   "execution_count": 89,
   "id": "97222443",
   "metadata": {},
   "outputs": [
    {
     "name": "stdout",
     "output_type": "stream",
     "text": [
      "2\n"
     ]
    }
   ],
   "source": [
    "#Q9 Write a Python program to count the frequency \"We\" in mytxt file\n",
    "\n",
    "with open(\"mytxt.txt\",\"r\") as readFile:\n",
    "    fileContent=readFile.read()\n",
    "    words=fileContent.split()\n",
    "    x=words.count(\"We\")\n",
    "    print(x)"
   ]
  },
  {
   "cell_type": "code",
   "execution_count": null,
   "id": "1d610ee4",
   "metadata": {},
   "outputs": [],
   "source": [
    "#Q10 Write a Python program to build a sign_Up and login forms for users.\n",
    "#Your program should validate/authenticate entered credentials for existing users\n",
    "#or create new accounts for new users\n",
    "#1 Create \"Credentials.txt\" file\n",
    "#2 Add the following information into your Credentials.txt file <Name, Password>\n",
    "# Sarah,12ssr\n",
    "# Lisa,pass\n",
    "# Donna,D00N\n",
    "#3 Create login function that takes two inputs (name,password)\n",
    "#3.1 Ask the user to enter their username and password\n",
    "#3.2 search if the names exist in the Credentials.txt file\n",
    "#3.2.1 if the name was found, check if the password is correct\n",
    "#3.2.2 return \"Welcome <persons name> if the name and password were corre\n",
    "#3.2.3 else return \"wrong name or password\"\n",
    "#3.2 if the name doesn't exist return \"your name doesn't exist, please create\n",
    "#4 Create sign_Up function that takes two inputs(newName,newPassword)\n",
    "#Ask user to enter their name and password\n",
    "#append the new information into the Credentials.txt file, follow the same fo\n",
    "#5 Test your program by logging in using the new account\n",
    "\n",
    "import numpy as np\n",
    "\n",
    "def sign_Up(name, password):\n",
    "    Credentials = open('Credentials.txt', 'w+')\n",
    "    "
   ]
  }
 ],
 "metadata": {
  "kernelspec": {
   "display_name": "Python 3 (ipykernel)",
   "language": "python",
   "name": "python3"
  },
  "language_info": {
   "codemirror_mode": {
    "name": "ipython",
    "version": 3
   },
   "file_extension": ".py",
   "mimetype": "text/x-python",
   "name": "python",
   "nbconvert_exporter": "python",
   "pygments_lexer": "ipython3",
   "version": "3.9.12"
  }
 },
 "nbformat": 4,
 "nbformat_minor": 5
}
