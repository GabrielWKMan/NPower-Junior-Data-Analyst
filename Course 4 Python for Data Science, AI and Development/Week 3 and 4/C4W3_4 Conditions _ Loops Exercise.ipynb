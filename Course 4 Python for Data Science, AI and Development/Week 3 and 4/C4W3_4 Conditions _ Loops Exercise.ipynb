{
 "cells": [
  {
   "cell_type": "code",
   "execution_count": 49,
   "id": "b14e6c3e",
   "metadata": {},
   "outputs": [
    {
     "name": "stdout",
     "output_type": "stream",
     "text": [
      "None of them are greater thatn 50.\n"
     ]
    }
   ],
   "source": [
    "#Q1 Given two integer numbers. If any of the numbers are greater than 50 return t\n",
    "number1= 20\n",
    "number2= 40\n",
    "\n",
    "if number1>50 or number2>50:\n",
    "    print(number1)\n",
    "else:\n",
    "    print(\"None of them are greater thatn 50.\")"
   ]
  },
  {
   "cell_type": "code",
   "execution_count": 56,
   "id": "c5d81a85",
   "metadata": {},
   "outputs": [
    {
     "name": "stdout",
     "output_type": "stream",
     "text": [
      "Plesae input a list: 1,h,5,j,7,1\n",
      "True\n"
     ]
    }
   ],
   "source": [
    "#Q2 Given a list of numbers, return True if first and last number of a list is same\n",
    "#list=[1,2,5,4,1]\n",
    "\n",
    "list1=input(\"Plesae input a list: \")\n",
    "#list1[0]==list1[-1]\n",
    "\n",
    "n=0\n",
    "for i in list1:\n",
    "    n+=1\n",
    "\n",
    "if list1[0]==list1[n-1]:\n",
    "    print(\"True\")\n",
    "else:\n",
    "    print(\"False\")"
   ]
  },
  {
   "cell_type": "code",
   "execution_count": 61,
   "id": "d7fefa97",
   "metadata": {},
   "outputs": [
    {
     "name": "stdout",
     "output_type": "stream",
     "text": [
      "Previous number: 0 \tCurrent number: 1 \tAdded: 1\n",
      "Previous number: 1 \tCurrent number: 3 \tAdded: 2\n",
      "Previous number: 3 \tCurrent number: 6 \tAdded: 3\n",
      "Previous number: 6 \tCurrent number: 10 \tAdded: 4\n",
      "Previous number: 10 \tCurrent number: 15 \tAdded: 5\n",
      "Previous number: 15 \tCurrent number: 21 \tAdded: 6\n",
      "Previous number: 21 \tCurrent number: 28 \tAdded: 7\n",
      "Previous number: 28 \tCurrent number: 36 \tAdded: 8\n",
      "Previous number: 36 \tCurrent number: 45 \tAdded: 9\n"
     ]
    }
   ],
   "source": [
    "#Q3 Given a range of the first 10 numbers[1:10], Iterate from the start number to last number\n",
    "#and In each iteration print the sum of the current number and previous number\n",
    "\n",
    "prev_num = 0\n",
    "for i in range(1,10):\n",
    "    print(f\"Previous number: {prev_num} \\tCurrent number: {prev_num+i} \\tAdded: {i}\")\n",
    "    prev_num+=i"
   ]
  },
  {
   "cell_type": "code",
   "execution_count": 63,
   "id": "30f936ba",
   "metadata": {},
   "outputs": [
    {
     "name": "stdout",
     "output_type": "stream",
     "text": [
      "NoeCnd"
     ]
    }
   ],
   "source": [
    "#Q4 Given a string name, display only those characters which are present at an ev\n",
    "name=\"NPowerCanada\"\n",
    "\n",
    "#name[::2]\n",
    "\n",
    "k=0\n",
    "for i in name:\n",
    "    if k<len(name):\n",
    "        print(name[k],end=\"\")\n",
    "        k+=2"
   ]
  },
  {
   "cell_type": "code",
   "execution_count": 64,
   "id": "c4087d27",
   "metadata": {},
   "outputs": [
    {
     "name": "stdout",
     "output_type": "stream",
     "text": [
      "Python\n"
     ]
    }
   ],
   "source": [
    "#Q5 Given a string oldString and an integer number n,\n",
    "#remove characters from a string starting from zero up to n and return a newStrin\n",
    "# oldString=\"PythonCourse\"\n",
    "#n=6\n",
    "\n",
    "oldString=\"PythonCourse\"\n",
    "n=6\n",
    "newString=\"\"\n",
    "for i in range(0,n):\n",
    "    if n<len(oldString):\n",
    "        newString+=oldString[i]\n",
    "print(newString)"
   ]
  },
  {
   "cell_type": "code",
   "execution_count": 39,
   "id": "bde0f169",
   "metadata": {},
   "outputs": [
    {
     "name": "stdout",
     "output_type": "stream",
     "text": [
      "*\n",
      "**\n",
      "***\n",
      "****\n"
     ]
    }
   ],
   "source": [
    "#Q6 Print the follwoing pattern\n",
    "#*\n",
    "#**\n",
    "#***\n",
    "#****\n",
    "\n",
    "for i in range(4):\n",
    "    print(\"*\"*(i+1))"
   ]
  },
  {
   "cell_type": "code",
   "execution_count": 65,
   "id": "22332cfa",
   "metadata": {},
   "outputs": [
    {
     "name": "stdout",
     "output_type": "stream",
     "text": [
      "[60, 50, 70, 90]\n"
     ]
    }
   ],
   "source": [
    "#Q7 Reverse the following list using for loop\n",
    "#list1=[90,70,50,60]\n",
    "\n",
    "list1=[90,70,50,60]\n",
    "list2=[]\n",
    "n = -1\n",
    "for i in range(len(list1)):\n",
    "    list2.append(list1[n])\n",
    "    n-=1\n",
    "print(list2)"
   ]
  },
  {
   "cell_type": "code",
   "execution_count": 44,
   "id": "2d9bd6f3",
   "metadata": {},
   "outputs": [
    {
     "name": "stdout",
     "output_type": "stream",
     "text": [
      "-10\n",
      "-9\n",
      "-8\n",
      "-7\n",
      "-6\n",
      "-5\n",
      "-4\n",
      "-3\n",
      "-2\n",
      "-1\n"
     ]
    }
   ],
   "source": [
    "#Q8 Display numbers from -10 to -1 using for loop [hint use range method]\n",
    "\n",
    "for i in range(-10,0):\n",
    "    print(i)"
   ]
  },
  {
   "cell_type": "code",
   "execution_count": null,
   "id": "0199611e",
   "metadata": {},
   "outputs": [],
   "source": []
  }
 ],
 "metadata": {
  "kernelspec": {
   "display_name": "Python 3 (ipykernel)",
   "language": "python",
   "name": "python3"
  },
  "language_info": {
   "codemirror_mode": {
    "name": "ipython",
    "version": 3
   },
   "file_extension": ".py",
   "mimetype": "text/x-python",
   "name": "python",
   "nbconvert_exporter": "python",
   "pygments_lexer": "ipython3",
   "version": "3.9.12"
  }
 },
 "nbformat": 4,
 "nbformat_minor": 5
}
