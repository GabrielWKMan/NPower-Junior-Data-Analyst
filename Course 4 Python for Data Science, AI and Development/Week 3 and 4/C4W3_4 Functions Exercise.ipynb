{
 "cells": [
  {
   "cell_type": "code",
   "execution_count": 40,
   "id": "e1fbb404",
   "metadata": {},
   "outputs": [
    {
     "name": "stdout",
     "output_type": "stream",
     "text": [
      "Please input two numbers to add together:\n",
      "First number: 36\n",
      "Second number: 48\n",
      "Sum of 36 and 48: 84\n"
     ]
    }
   ],
   "source": [
    "#Q1 Write Python function that takes two inputs\n",
    "#and return their sum value\n",
    "\n",
    "def add(a,b):\n",
    "    return a+b\n",
    "print(\"Please input two numbers to add together:\")\n",
    "x=int(input(\"First number: \"))\n",
    "y=int(input(\"Second number: \"))\n",
    "print(\"Sum of {} and {}:\".format(x,y),add(x,y))"
   ]
  },
  {
   "cell_type": "code",
   "execution_count": 43,
   "id": "e2cb1335",
   "metadata": {},
   "outputs": [
    {
     "name": "stdout",
     "output_type": "stream",
     "text": [
      "Please input the celsius temperature to convert it into fahrenheit: 35\n",
      "Fahrenheit: 95.0\n"
     ]
    }
   ],
   "source": [
    "#Q2 Write Python function the takes a celsius temprature\n",
    "#and converts it into fahrenheit\n",
    "\n",
    "def F(x):\n",
    "    return x*9/5+32\n",
    "C = int(input(\"Please input the celsius temperature to convert it into fahrenheit: \"))\n",
    "print(\"Fahrenheit:\", F(C))"
   ]
  },
  {
   "cell_type": "code",
   "execution_count": 46,
   "id": "d31f6516",
   "metadata": {},
   "outputs": [
    {
     "name": "stdout",
     "output_type": "stream",
     "text": [
      "To find the max of three numbers:\n",
      "First number: 3254\n",
      "Second number: 626\n",
      "Third number: 54\n",
      "The max of 3254, 626 and 54 is: 3254\n"
     ]
    }
   ],
   "source": [
    "#Q3 Write a Python function to find the Max of three numbers\n",
    "\n",
    "def findMax(a,b,c):\n",
    "    return max(a,b,c)\n",
    "print(\"To find the max of three numbers:\")\n",
    "x=int(input(\"First number: \"))\n",
    "y=int(input(\"Second number: \"))\n",
    "z=int(input(\"Third number: \"))\n",
    "print(\"The max of {}, {} and {} is:\".format(x,y,z), findMax(x,y,z))"
   ]
  },
  {
   "cell_type": "code",
   "execution_count": 48,
   "id": "549c37d0",
   "metadata": {},
   "outputs": [
    {
     "name": "stdout",
     "output_type": "stream",
     "text": [
      "Please input a number: 45\n",
      "The number 67 is not in the range of 5 to 12.\n"
     ]
    }
   ],
   "source": [
    "#Q4 Write a Python function to check whether a number\n",
    "#is in a given range [5,12]\n",
    "\n",
    "def checkRange(x):\n",
    "    if x in range(5,13):\n",
    "        print('The number {} is in the range of 5 to 12.'.format(x))\n",
    "    else:\n",
    "        print('The number {} is not in the range of 5 to 12.'.format(x))\n",
    "x=int(input(\"Please input a number: \"))\n",
    "checkRange(67)"
   ]
  },
  {
   "cell_type": "code",
   "execution_count": 49,
   "id": "5562525e",
   "metadata": {},
   "outputs": [
    {
     "name": "stdout",
     "output_type": "stream",
     "text": [
      "[1, 2, 3, 3, 3, 3, 4, 5]\n"
     ]
    },
    {
     "data": {
      "text/plain": [
       "[1, 2, 3, 4, 5]"
      ]
     },
     "execution_count": 49,
     "metadata": {},
     "output_type": "execute_result"
    }
   ],
   "source": [
    "#Q5 Write a Python function that takes a list\n",
    "#and returns a new list with unique elements of the first\n",
    "#Sample_List : [1,2,3,3,3,3,4,5]\n",
    "\n",
    "Sample_List = [1,2,3,3,3,3,4,5]\n",
    "print(Sample_List)\n",
    "\n",
    "def uniEle(list_input):\n",
    "    new_list = list(set(list_input))\n",
    "    return new_list\n",
    "uniEle(Sample_List)"
   ]
  },
  {
   "cell_type": "code",
   "execution_count": 23,
   "id": "f501160f",
   "metadata": {},
   "outputs": [
    {
     "name": "stdout",
     "output_type": "stream",
     "text": [
      "True\n",
      "False\n",
      "True\n"
     ]
    }
   ],
   "source": [
    "#Q6 Given a list of numbers, return True if first\n",
    "#and last number of a list is same\n",
    "#list1=[1,2,5,4,1]\n",
    "#list2=[5,6,3,2,1]\n",
    "#list3=[88,44,55,66,77,88]\n",
    "\n",
    "def checkFirstLast(list_input):\n",
    "    return list_input[0] == list_input[-1]\n",
    "\n",
    "list1=[1,2,5,4,1]\n",
    "list2=[5,6,3,2,1]\n",
    "list3=[88,44,55,66,77,88]\n",
    "\n",
    "print(checkFirstLast(list1))\n",
    "print(checkFirstLast(list2))\n",
    "print(checkFirstLast(list3))"
   ]
  },
  {
   "cell_type": "code",
   "execution_count": null,
   "id": "388abac6",
   "metadata": {},
   "outputs": [],
   "source": []
  }
 ],
 "metadata": {
  "kernelspec": {
   "display_name": "Python 3 (ipykernel)",
   "language": "python",
   "name": "python3"
  },
  "language_info": {
   "codemirror_mode": {
    "name": "ipython",
    "version": 3
   },
   "file_extension": ".py",
   "mimetype": "text/x-python",
   "name": "python",
   "nbconvert_exporter": "python",
   "pygments_lexer": "ipython3",
   "version": "3.9.12"
  }
 },
 "nbformat": 4,
 "nbformat_minor": 5
}
