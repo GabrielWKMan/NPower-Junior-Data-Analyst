{
 "cells": [
  {
   "cell_type": "code",
   "execution_count": 94,
   "id": "d220bfaa",
   "metadata": {},
   "outputs": [
    {
     "data": {
      "text/plain": [
       "{'A': 'Ahkil',\n",
       " 'F': 'Farnaz',\n",
       " 'K': 'Kisshan',\n",
       " 'O': 'Oleg',\n",
       " 'R': 'Revathy',\n",
       " 'G': 'Gabriel'}"
      ]
     },
     "execution_count": 94,
     "metadata": {},
     "output_type": "execute_result"
    }
   ],
   "source": [
    "#Q1\n",
    "dic = {'A':'Ahkil', 'F':'Farnaz', 'K':'Kisshan', 'O':'Oleg', 'R':'Revathy', 'G':'Gabriel'}\n",
    "dic"
   ]
  },
  {
   "cell_type": "code",
   "execution_count": 8,
   "id": "d3e96043",
   "metadata": {},
   "outputs": [
    {
     "data": {
      "text/plain": [
       "dict_keys(['A', 'F', 'K', 'O', 'R', 'G'])"
      ]
     },
     "execution_count": 8,
     "metadata": {},
     "output_type": "execute_result"
    }
   ],
   "source": [
    "#Q2\n",
    "dic.keys()"
   ]
  },
  {
   "cell_type": "code",
   "execution_count": 9,
   "id": "eec28ee4",
   "metadata": {},
   "outputs": [
    {
     "data": {
      "text/plain": [
       "dict_values(['Ahkil', 'Farnaz', 'Kisshan', 'Oleg', 'Revathy', 'Gabriel'])"
      ]
     },
     "execution_count": 9,
     "metadata": {},
     "output_type": "execute_result"
    }
   ],
   "source": [
    "#Q3\n",
    "dic.values()"
   ]
  },
  {
   "cell_type": "code",
   "execution_count": 104,
   "id": "3ad6cbb4",
   "metadata": {},
   "outputs": [
    {
     "name": "stdout",
     "output_type": "stream",
     "text": [
      "J is not found.\n",
      "I is not found.\n",
      "M is not found.\n",
      "C is not found.\n",
      "The name for A is Ahkil\n"
     ]
    }
   ],
   "source": [
    "#Q4\n",
    "searchLetterList = 'J,I,M,C,A'.split(',')\n",
    "for i in range(len(searchLetterList)):\n",
    "    searchBoolean = searchLetterList[i] in dic\n",
    "    if searchBoolean == True:\n",
    "        print('The name for', searchLetterList[i], 'is', dic[searchLetterList[i]])\n",
    "    else:\n",
    "        print(searchLetterList[i], 'is not found.')"
   ]
  },
  {
   "cell_type": "code",
   "execution_count": 31,
   "id": "216381f1",
   "metadata": {},
   "outputs": [
    {
     "data": {
      "text/plain": [
       "{'A': 'Ahkil',\n",
       " 'F': 'Farnaz',\n",
       " 'K': 'Kisshan',\n",
       " 'O': 'Oleg',\n",
       " 'R': 'Revathy',\n",
       " 'G': 'Gabriel',\n",
       " 'K,PD': 'Kristina'}"
      ]
     },
     "execution_count": 31,
     "metadata": {},
     "output_type": "execute_result"
    }
   ],
   "source": [
    "#Q5\n",
    "dic.update({'K,PD':'Kristina'})\n",
    "dic"
   ]
  },
  {
   "cell_type": "code",
   "execution_count": 32,
   "id": "6125420c",
   "metadata": {},
   "outputs": [
    {
     "data": {
      "text/plain": [
       "7"
      ]
     },
     "execution_count": 32,
     "metadata": {},
     "output_type": "execute_result"
    }
   ],
   "source": [
    "#Q6\n",
    "len(dic)"
   ]
  },
  {
   "cell_type": "code",
   "execution_count": 37,
   "id": "f2bd684a",
   "metadata": {},
   "outputs": [
    {
     "data": {
      "text/plain": [
       "{'A': 'Ahkil',\n",
       " 'F': 'Farnaz',\n",
       " 'K': 'Kisshan',\n",
       " 'O': 'Oleg',\n",
       " 'R': 'Revathy',\n",
       " 'G': 'Gabriel',\n",
       " 'K,PD': 'Kristina',\n",
       " 'S,Instructor': 'Sarah'}"
      ]
     },
     "execution_count": 37,
     "metadata": {},
     "output_type": "execute_result"
    }
   ],
   "source": [
    "#Q7\n",
    "dic.update({'S,Instructor':'Sarah'})\n",
    "dic"
   ]
  },
  {
   "cell_type": "code",
   "execution_count": 38,
   "id": "c534ce85",
   "metadata": {},
   "outputs": [
    {
     "data": {
      "text/plain": [
       "8"
      ]
     },
     "execution_count": 38,
     "metadata": {},
     "output_type": "execute_result"
    }
   ],
   "source": [
    "#Q8\n",
    "len(dic)"
   ]
  },
  {
   "cell_type": "code",
   "execution_count": 39,
   "id": "e928418d",
   "metadata": {},
   "outputs": [
    {
     "ename": "KeyError",
     "evalue": "'J'",
     "output_type": "error",
     "traceback": [
      "\u001b[1;31m---------------------------------------------------------------------------\u001b[0m",
      "\u001b[1;31mKeyError\u001b[0m                                  Traceback (most recent call last)",
      "Input \u001b[1;32mIn [39]\u001b[0m, in \u001b[0;36m<cell line: 2>\u001b[1;34m()\u001b[0m\n\u001b[0;32m      1\u001b[0m \u001b[38;5;28;01mdel\u001b[39;00m(dic[\u001b[38;5;124m'\u001b[39m\u001b[38;5;124mS,Instructor\u001b[39m\u001b[38;5;124m'\u001b[39m])\n\u001b[1;32m----> 2\u001b[0m \u001b[38;5;28;01mdel\u001b[39;00m(dic[\u001b[38;5;124m'\u001b[39m\u001b[38;5;124mJ\u001b[39m\u001b[38;5;124m'\u001b[39m])\n",
      "\u001b[1;31mKeyError\u001b[0m: 'J'"
     ]
    }
   ],
   "source": [
    "#Q7\n",
    "del(dic['S,Instructor'])\n",
    "del(dic['J'])"
   ]
  },
  {
   "cell_type": "code",
   "execution_count": 41,
   "id": "c17f703e",
   "metadata": {},
   "outputs": [
    {
     "data": {
      "text/plain": [
       "7"
      ]
     },
     "execution_count": 41,
     "metadata": {},
     "output_type": "execute_result"
    }
   ],
   "source": [
    "#Q9\n",
    "len(dic)"
   ]
  },
  {
   "cell_type": "code",
   "execution_count": 130,
   "id": "4e7da11a",
   "metadata": {},
   "outputs": [],
   "source": [
    "#Q10\n",
    "synonyms_dic = {}"
   ]
  },
  {
   "cell_type": "code",
   "execution_count": 131,
   "id": "082cfde8",
   "metadata": {},
   "outputs": [
    {
     "data": {
      "text/plain": [
       "{'Bad': 'Good', 'Awesome': 'Cold', 'Easy': 'Hard', 'Big': 'Small'}"
      ]
     },
     "execution_count": 131,
     "metadata": {},
     "output_type": "execute_result"
    }
   ],
   "source": [
    "#Q11\n",
    "listSplit = 'Bad, Good, Awesome, Cold, Easy, Hard, Big, Small'.split(', ')\n",
    "for i in range(0,len(listSplit),2):\n",
    "    synonyms_dic.update({listSplit[i]: listSplit[i+1]})\n",
    "synonyms_dic"
   ]
  },
  {
   "cell_type": "code",
   "execution_count": 127,
   "id": "503a988a",
   "metadata": {},
   "outputs": [
    {
     "name": "stdout",
     "output_type": "stream",
     "text": [
      "Synonm of Awesome is Cold\n",
      "Synonm of Easy is Hard\n",
      "Synonm of Small is not found.\n",
      "Synonm of Old is not found.\n"
     ]
    }
   ],
   "source": [
    "#Q12\n",
    "searchSynonmList = 'Awesome, Easy, Small, Old'.split(', ')\n",
    "for i in range(len(synonyms_dic)):\n",
    "    searchSynonmBoolean = searchSynonmList[i] in synonyms_dic\n",
    "    if searchSynonmBoolean == True:\n",
    "        print('Synonm of', searchSynonmList[i], 'is', synonyms_dic[searchSynonmList[i]])\n",
    "    else:\n",
    "        print('Synonm of', searchSynonmList[i], 'is not found.')"
   ]
  },
  {
   "cell_type": "code",
   "execution_count": 133,
   "id": "a3d7b338",
   "metadata": {},
   "outputs": [],
   "source": [
    "#Q13\n",
    "del(synonyms_dic)"
   ]
  },
  {
   "cell_type": "code",
   "execution_count": 134,
   "id": "2dbdf0f8",
   "metadata": {},
   "outputs": [
    {
     "ename": "NameError",
     "evalue": "name 'synonyms_dic' is not defined",
     "output_type": "error",
     "traceback": [
      "\u001b[1;31m---------------------------------------------------------------------------\u001b[0m",
      "\u001b[1;31mNameError\u001b[0m                                 Traceback (most recent call last)",
      "Input \u001b[1;32mIn [134]\u001b[0m, in \u001b[0;36m<cell line: 2>\u001b[1;34m()\u001b[0m\n\u001b[0;32m      1\u001b[0m \u001b[38;5;66;03m#14\u001b[39;00m\n\u001b[1;32m----> 2\u001b[0m \u001b[43msynonyms_dic\u001b[49m\u001b[38;5;241m.\u001b[39mvalues()\n",
      "\u001b[1;31mNameError\u001b[0m: name 'synonyms_dic' is not defined"
     ]
    }
   ],
   "source": [
    "#Q14\n",
    "synonyms_dic.values()"
   ]
  },
  {
   "cell_type": "code",
   "execution_count": 141,
   "id": "1f1dccb9",
   "metadata": {},
   "outputs": [
    {
     "data": {
      "text/plain": [
       "{'True': 1, 'False': 0}"
      ]
     },
     "execution_count": 141,
     "metadata": {},
     "output_type": "execute_result"
    }
   ],
   "source": [
    "#Q15\n",
    "Keys = [\"True\",\"False\"]\n",
    "Values = [1,0]\n",
    "dic_15 = {}\n",
    "for i in range(len(Keys)):\n",
    "    dic_15.update({Keys[i]: Values[i]})\n",
    "dic_15"
   ]
  },
  {
   "cell_type": "code",
   "execution_count": 138,
   "id": "072fdd90",
   "metadata": {},
   "outputs": [
    {
     "data": {
      "text/plain": [
       "4480"
      ]
     },
     "execution_count": 138,
     "metadata": {},
     "output_type": "execute_result"
    }
   ],
   "source": [
    "#Q16\n",
    "income={'Jan':1000,'Feb':1500,'Mar':980,'April':1000}\n",
    "sum(income.values())"
   ]
  },
  {
   "cell_type": "code",
   "execution_count": 166,
   "id": "376870c6",
   "metadata": {},
   "outputs": [
    {
     "name": "stdout",
     "output_type": "stream",
     "text": [
      "110 101 10 1011 110 1001\n",
      "I am hungry man I roar\n"
     ]
    }
   ],
   "source": [
    "#Q17\n",
    "dic_encryp = {10:\"hungry\", 101:\"am\", 110:\"I\", 1001:\"roar\", 1011:\"man\"}\n",
    "decrypcode = \"110 101 10 1011 110 1001\"\n",
    "print(decrypcode)\n",
    "decrypcodeList = decrypcode.split(\" \")\n",
    "decrypList = []\n",
    "for i in range(len(decrypcodeList)):\n",
    "    decrypList.append(dic_encryp[int(decrypcodeList[i])])\n",
    "print(' '.join(decrypList))"
   ]
  },
  {
   "cell_type": "code",
   "execution_count": null,
   "id": "f6f70a19",
   "metadata": {},
   "outputs": [],
   "source": []
  }
 ],
 "metadata": {
  "kernelspec": {
   "display_name": "Python 3 (ipykernel)",
   "language": "python",
   "name": "python3"
  },
  "language_info": {
   "codemirror_mode": {
    "name": "ipython",
    "version": 3
   },
   "file_extension": ".py",
   "mimetype": "text/x-python",
   "name": "python",
   "nbconvert_exporter": "python",
   "pygments_lexer": "ipython3",
   "version": "3.9.12"
  }
 },
 "nbformat": 4,
 "nbformat_minor": 5
}
