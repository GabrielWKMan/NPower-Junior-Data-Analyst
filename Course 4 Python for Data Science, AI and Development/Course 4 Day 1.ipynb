{
 "cells": [
  {
   "cell_type": "code",
   "execution_count": 16,
   "id": "c2d14130",
   "metadata": {},
   "outputs": [],
   "source": [
    "name=\"Geetu\"\n",
    "ENo=101\n",
    "class_Name=\"GTA West A\"\n",
    "Noofstudents=54"
   ]
  },
  {
   "cell_type": "code",
   "execution_count": 7,
   "id": "f577b138",
   "metadata": {},
   "outputs": [
    {
     "name": "stdout",
     "output_type": "stream",
     "text": [
      "101\n"
     ]
    }
   ],
   "source": [
    "print(ENo)"
   ]
  },
  {
   "cell_type": "code",
   "execution_count": 8,
   "id": "e45503b2",
   "metadata": {},
   "outputs": [
    {
     "name": "stdout",
     "output_type": "stream",
     "text": [
      "Welcome to my class!\n"
     ]
    }
   ],
   "source": [
    "print(\"Welcome to my class!\")"
   ]
  },
  {
   "cell_type": "code",
   "execution_count": 11,
   "id": "3466ac4b",
   "metadata": {},
   "outputs": [
    {
     "name": "stdout",
     "output_type": "stream",
     "text": [
      "5+4\n"
     ]
    }
   ],
   "source": [
    "print(\"5+4\")"
   ]
  },
  {
   "cell_type": "code",
   "execution_count": 13,
   "id": "c24f6605",
   "metadata": {},
   "outputs": [
    {
     "name": "stdout",
     "output_type": "stream",
     "text": [
      "<class 'str'>\n"
     ]
    }
   ],
   "source": [
    "#type()\n",
    "print(type(name))"
   ]
  },
  {
   "cell_type": "code",
   "execution_count": 17,
   "id": "58622c60",
   "metadata": {},
   "outputs": [
    {
     "name": "stdout",
     "output_type": "stream",
     "text": [
      "<class 'float'>\n"
     ]
    }
   ],
   "source": [
    "# I am using type() to print the type of data stored in Score variable\n",
    "# ctrl + /\n",
    "\n",
    "score=856.67\n",
    "\n",
    "print(type(score))"
   ]
  },
  {
   "cell_type": "code",
   "execution_count": 20,
   "id": "03bbe358",
   "metadata": {},
   "outputs": [
    {
     "name": "stdout",
     "output_type": "stream",
     "text": [
      "C:\\Users\\Student236\\anaconda3\\python.exe\n",
      "3.9.12 (main, Apr  4 2022, 05:22:27) [MSC v.1916 64 bit (AMD64)]\n",
      "sys.version_info(major=3, minor=9, micro=12, releaselevel='final', serial=0)\n"
     ]
    }
   ],
   "source": [
    "import sys\n",
    "print(sys.executable)\n",
    "print(sys.version)\n",
    "print(sys.version_info)"
   ]
  },
  {
   "cell_type": "code",
   "execution_count": 21,
   "id": "d74ff646",
   "metadata": {},
   "outputs": [
    {
     "name": "stdout",
     "output_type": "stream",
     "text": [
      "a Mo\n"
     ]
    }
   ],
   "source": [
    "name=\"Taumeca Monika\"\n",
    "print(name[6:10]) # slicing"
   ]
  },
  {
   "cell_type": "code",
   "execution_count": 22,
   "id": "e3e8cb0f",
   "metadata": {},
   "outputs": [
    {
     "name": "stdout",
     "output_type": "stream",
     "text": [
      "HelloHelloHello\n"
     ]
    }
   ],
   "source": [
    "print(\"Hello\"*3)"
   ]
  },
  {
   "cell_type": "code",
   "execution_count": 28,
   "id": "5535b08a",
   "metadata": {},
   "outputs": [
    {
     "name": "stdout",
     "output_type": "stream",
     "text": [
      "11\n",
      "a+b\n",
      "67\n"
     ]
    }
   ],
   "source": [
    "a=5\n",
    "b=6\n",
    "c=\"6\"\n",
    "d=\"7\"\n",
    "print(a+b)\n",
    "print(\"a+b\")\n",
    "print(c+d) #CONCATENATION"
   ]
  },
  {
   "cell_type": "code",
   "execution_count": 39,
   "id": "26caa3cb",
   "metadata": {},
   "outputs": [
    {
     "name": "stdout",
     "output_type": "stream",
     "text": [
      "5.714285714285714\n",
      "5\n",
      "12.6\n"
     ]
    }
   ],
   "source": [
    "a=5.6\n",
    "b=40\n",
    "c=7\n",
    "print(b/c)\n",
    "print(b//c)\n",
    "print(a+c)"
   ]
  },
  {
   "cell_type": "code",
   "execution_count": 40,
   "id": "f4b7dda7",
   "metadata": {},
   "outputs": [
    {
     "name": "stdout",
     "output_type": "stream",
     "text": [
      "tsEW A\n"
     ]
    }
   ],
   "source": [
    "str=\" GTA WEst A\"\n",
    "\n",
    "print(str[8:2:-1])"
   ]
  },
  {
   "cell_type": "code",
   "execution_count": 41,
   "id": "4b3017a9",
   "metadata": {},
   "outputs": [
    {
     "name": "stdout",
     "output_type": "stream",
     "text": [
      "A\n"
     ]
    }
   ],
   "source": [
    "print(str[-8])"
   ]
  },
  {
   "cell_type": "code",
   "execution_count": 49,
   "id": "18c16d06",
   "metadata": {},
   "outputs": [
    {
     "name": "stdout",
     "output_type": "stream",
     "text": [
      "_GTA_WEst_A\n",
      "A tsEW ATG \n"
     ]
    }
   ],
   "source": [
    "print(str.replace(\" \",\"_\"))\n",
    "print(str[::-1])"
   ]
  },
  {
   "cell_type": "code",
   "execution_count": 69,
   "id": "95494278",
   "metadata": {},
   "outputs": [
    {
     "name": "stdout",
     "output_type": "stream",
     "text": [
      "3.9.12\n"
     ]
    }
   ],
   "source": [
    "from platform import python_version\n",
    "\n",
    "print(python_version())"
   ]
  },
  {
   "cell_type": "code",
   "execution_count": 70,
   "id": "810dc52a",
   "metadata": {},
   "outputs": [
    {
     "name": "stdout",
     "output_type": "stream",
     "text": [
      "Geetu\\tSodhi\n"
     ]
    }
   ],
   "source": [
    "print(r\"Geetu\\tSodhi\")"
   ]
  },
  {
   "cell_type": "code",
   "execution_count": 77,
   "id": "bac95f93",
   "metadata": {},
   "outputs": [
    {
     "name": "stdout",
     "output_type": "stream",
     "text": [
      "hello-bye bye-12^^jhew^^bjhggjhge\n"
     ]
    }
   ],
   "source": [
    "print(\"hello\",\"bye bye\",5+7,end=\"^^\",sep=\"-\")\n",
    "print(\"jhew\",end=\"^^\")\n",
    "print(\"bjhggjhge\")"
   ]
  },
  {
   "cell_type": "code",
   "execution_count": 79,
   "id": "0df9ea77",
   "metadata": {},
   "outputs": [
    {
     "name": "stdout",
     "output_type": "stream",
     "text": [
      "Enter your name:hi\n",
      "Enter the number:345\n",
      "Enter the number:567\n",
      "hi\n",
      "195615\n"
     ]
    }
   ],
   "source": [
    "name=input(\"Enter your name:\")\n",
    "a=int(input(\"Enter the number:\"))\n",
    "b=int(input(\"Enter the number:\"))\n",
    "print(name)\n",
    "print(a*b)"
   ]
  },
  {
   "cell_type": "code",
   "execution_count": null,
   "id": "e5e98c4d",
   "metadata": {},
   "outputs": [],
   "source": []
  }
 ],
 "metadata": {
  "kernelspec": {
   "display_name": "Python 3 (ipykernel)",
   "language": "python",
   "name": "python3"
  },
  "language_info": {
   "codemirror_mode": {
    "name": "ipython",
    "version": 3
   },
   "file_extension": ".py",
   "mimetype": "text/x-python",
   "name": "python",
   "nbconvert_exporter": "python",
   "pygments_lexer": "ipython3",
   "version": "3.9.12"
  }
 },
 "nbformat": 4,
 "nbformat_minor": 5
}
