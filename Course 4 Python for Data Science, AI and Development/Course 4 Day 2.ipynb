{
 "cells": [
  {
   "cell_type": "code",
   "execution_count": 4,
   "id": "c3219d6c",
   "metadata": {},
   "outputs": [
    {
     "data": {
      "text/plain": [
       "[]"
      ]
     },
     "execution_count": 4,
     "metadata": {},
     "output_type": "execute_result"
    }
   ],
   "source": [
    "list3 = list()\n",
    "list3"
   ]
  },
  {
   "cell_type": "code",
   "execution_count": 5,
   "id": "aa2e2eba",
   "metadata": {},
   "outputs": [
    {
     "data": {
      "text/plain": [
       "['a', 'b', 'c', 'd']"
      ]
     },
     "execution_count": 5,
     "metadata": {},
     "output_type": "execute_result"
    }
   ],
   "source": [
    "list4 = list(\"abcd\")\n",
    "list4"
   ]
  },
  {
   "cell_type": "code",
   "execution_count": 12,
   "id": "f2a4cc5c",
   "metadata": {},
   "outputs": [
    {
     "data": {
      "text/plain": [
       "(4, 5)"
      ]
     },
     "execution_count": 12,
     "metadata": {},
     "output_type": "execute_result"
    }
   ],
   "source": [
    "t2 = tuple([1,2,3,4,5])\n",
    "t2 [3:5]"
   ]
  },
  {
   "cell_type": "code",
   "execution_count": 11,
   "id": "93e5882f",
   "metadata": {},
   "outputs": [
    {
     "data": {
      "text/plain": [
       "False"
      ]
     },
     "execution_count": 11,
     "metadata": {},
     "output_type": "execute_result"
    }
   ],
   "source": [
    "6 in t2"
   ]
  },
  {
   "cell_type": "code",
   "execution_count": 13,
   "id": "d53efdf7",
   "metadata": {},
   "outputs": [
    {
     "data": {
      "text/plain": [
       "True"
      ]
     },
     "execution_count": 13,
     "metadata": {},
     "output_type": "execute_result"
    }
   ],
   "source": [
    "6 not in t2"
   ]
  },
  {
   "cell_type": "code",
   "execution_count": 20,
   "id": "5d79c884",
   "metadata": {},
   "outputs": [
    {
     "data": {
      "text/plain": [
       "{1, 3, 6, 7, 25, 54, 55}"
      ]
     },
     "execution_count": 20,
     "metadata": {},
     "output_type": "execute_result"
    }
   ],
   "source": [
    "s2 = {1,25,3,54,55,6,7}\n",
    "s2"
   ]
  },
  {
   "cell_type": "code",
   "execution_count": 21,
   "id": "fe057aca",
   "metadata": {},
   "outputs": [
    {
     "data": {
      "text/plain": [
       "{1, 25, 3, 54, 55, 6, 7, 'abc'}"
      ]
     },
     "execution_count": 21,
     "metadata": {},
     "output_type": "execute_result"
    }
   ],
   "source": [
    "s2.add('abc')\n",
    "s2"
   ]
  },
  {
   "cell_type": "code",
   "execution_count": 22,
   "id": "a5a64c38",
   "metadata": {},
   "outputs": [
    {
     "data": {
      "text/plain": [
       "{1, 25, 3, 55, 6, 7, 'abc'}"
      ]
     },
     "execution_count": 22,
     "metadata": {},
     "output_type": "execute_result"
    }
   ],
   "source": [
    "s2.remove(54)\n",
    "s2"
   ]
  },
  {
   "cell_type": "code",
   "execution_count": 30,
   "id": "19774fbf",
   "metadata": {},
   "outputs": [
    {
     "data": {
      "text/plain": [
       "{'k1': 1, 'k2': 2, 'k3': 3}"
      ]
     },
     "execution_count": 30,
     "metadata": {},
     "output_type": "execute_result"
    }
   ],
   "source": [
    "d1 = {'k1':1, 'k2':2, 'k3':3}\n",
    "d1"
   ]
  },
  {
   "cell_type": "code",
   "execution_count": 24,
   "id": "e8c1141d",
   "metadata": {},
   "outputs": [
    {
     "data": {
      "text/plain": [
       "dict_keys(['k1', 'k2', 'k3'])"
      ]
     },
     "execution_count": 24,
     "metadata": {},
     "output_type": "execute_result"
    }
   ],
   "source": [
    "d1.keys()"
   ]
  },
  {
   "cell_type": "code",
   "execution_count": 25,
   "id": "540f912d",
   "metadata": {},
   "outputs": [
    {
     "data": {
      "text/plain": [
       "dict_values([1, 2, 3])"
      ]
     },
     "execution_count": 25,
     "metadata": {},
     "output_type": "execute_result"
    }
   ],
   "source": [
    "d1.values()"
   ]
  },
  {
   "cell_type": "code",
   "execution_count": 32,
   "id": "d832d9cc",
   "metadata": {},
   "outputs": [
    {
     "data": {
      "text/plain": [
       "{'k1': 1, 'k2': 2, 'k3': 4}"
      ]
     },
     "execution_count": 32,
     "metadata": {},
     "output_type": "execute_result"
    }
   ],
   "source": [
    "d1.update({'k3':4})\n",
    "d1"
   ]
  },
  {
   "cell_type": "code",
   "execution_count": 31,
   "id": "28460440",
   "metadata": {},
   "outputs": [
    {
     "data": {
      "text/plain": [
       "{'k1': 'asd', 'k2': 2, 'k3': 3}"
      ]
     },
     "execution_count": 31,
     "metadata": {},
     "output_type": "execute_result"
    }
   ],
   "source": [
    "d2 = {'k1':'asd', 'k2':2, 'k3':3}\n",
    "d2"
   ]
  },
  {
   "cell_type": "code",
   "execution_count": 35,
   "id": "38b23a34",
   "metadata": {},
   "outputs": [
    {
     "name": "stdout",
     "output_type": "stream",
     "text": [
      "b is greater than a\n"
     ]
    }
   ],
   "source": [
    "a=1\n",
    "b=4\n",
    "if b>a:\n",
    "    print('b is greater than a')\n",
    "elif b<a:\n",
    "    print('b is smaller than a')\n",
    "else:\n",
    "    print('ok')"
   ]
  },
  {
   "cell_type": "code",
   "execution_count": 37,
   "id": "1aabe5ef",
   "metadata": {},
   "outputs": [
    {
     "name": "stdout",
     "output_type": "stream",
     "text": [
      "4\n",
      "5\n",
      "6\n",
      "7\n",
      "8\n",
      "9\n"
     ]
    }
   ],
   "source": [
    "li = [1,2, 3, 4, 5, 6, 7, 8, 9]\n",
    "for x in li[3:9]:\n",
    "    print(x)"
   ]
  },
  {
   "cell_type": "code",
   "execution_count": null,
   "id": "4ddabcea",
   "metadata": {},
   "outputs": [],
   "source": []
  }
 ],
 "metadata": {
  "kernelspec": {
   "display_name": "Python 3 (ipykernel)",
   "language": "python",
   "name": "python3"
  },
  "language_info": {
   "codemirror_mode": {
    "name": "ipython",
    "version": 3
   },
   "file_extension": ".py",
   "mimetype": "text/x-python",
   "name": "python",
   "nbconvert_exporter": "python",
   "pygments_lexer": "ipython3",
   "version": "3.9.12"
  }
 },
 "nbformat": 4,
 "nbformat_minor": 5
}
