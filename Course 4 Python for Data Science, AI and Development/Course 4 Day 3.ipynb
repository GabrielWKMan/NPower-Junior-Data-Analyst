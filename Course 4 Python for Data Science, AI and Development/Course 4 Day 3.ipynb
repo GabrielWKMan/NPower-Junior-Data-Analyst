{
 "cells": [
  {
   "cell_type": "code",
   "execution_count": 2,
   "id": "5e506956",
   "metadata": {},
   "outputs": [
    {
     "name": "stdout",
     "output_type": "stream",
     "text": [
      "55\n"
     ]
    }
   ],
   "source": [
    "sum = 0\n",
    "for i in range(11):\n",
    "    sum += i\n",
    "print(sum)"
   ]
  },
  {
   "cell_type": "code",
   "execution_count": 3,
   "id": "0094e135",
   "metadata": {},
   "outputs": [
    {
     "name": "stdout",
     "output_type": "stream",
     "text": [
      "55\n"
     ]
    }
   ],
   "source": [
    "x = 1 #begining\n",
    "sum2 = 0\n",
    "while x <= 10: #end\n",
    "    sum2 += x\n",
    "    x += 1 #step\n",
    "print(sum2)"
   ]
  },
  {
   "cell_type": "code",
   "execution_count": 5,
   "id": "20c7477c",
   "metadata": {},
   "outputs": [
    {
     "name": "stdout",
     "output_type": "stream",
     "text": [
      "Enter the first number:5\n",
      "Enter the second number:4\n",
      "54\n"
     ]
    }
   ],
   "source": [
    "firstNum = input(\"Enter the first number:\")\n",
    "secondNum = input(\"Enter the second number:\")\n",
    "print(firstNum + secondNum)"
   ]
  },
  {
   "cell_type": "code",
   "execution_count": 6,
   "id": "f32ccb1b",
   "metadata": {},
   "outputs": [
    {
     "name": "stdout",
     "output_type": "stream",
     "text": [
      "Enter the first number:7\n",
      "Enter the second number:8\n",
      "15\n"
     ]
    }
   ],
   "source": [
    "firstNum = int(input(\"Enter the first number:\"))\n",
    "secondNum = int(input(\"Enter the second number:\"))\n",
    "print(firstNum + secondNum)"
   ]
  },
  {
   "cell_type": "code",
   "execution_count": 22,
   "id": "6525ff23",
   "metadata": {},
   "outputs": [
    {
     "name": "stdout",
     "output_type": "stream",
     "text": [
      "Enter the first number:1\n",
      "Enter the second number:10\n",
      "25\n"
     ]
    }
   ],
   "source": [
    "firstNum = int(input(\"Enter the first number:\"))\n",
    "secondNum = int(input(\"Enter the second number:\"))\n",
    "sum = 0\n",
    "for i in range(firstNum,secondNum+1,2):\n",
    "    sum += i\n",
    "print(sum)"
   ]
  },
  {
   "cell_type": "code",
   "execution_count": 21,
   "id": "7df8e02f",
   "metadata": {},
   "outputs": [
    {
     "name": "stdout",
     "output_type": "stream",
     "text": [
      "Enter the first number:1\n",
      "Enter the second number:10\n",
      "25\n"
     ]
    }
   ],
   "source": [
    "firstNum = int(input(\"Enter the first number:\"))\n",
    "secondNum = int(input(\"Enter the second number:\"))\n",
    "sum = 0\n",
    "while firstNum <= secondNum:\n",
    "    sum += firstNum\n",
    "    firstNum += 2\n",
    "print(sum)"
   ]
  },
  {
   "cell_type": "code",
   "execution_count": 24,
   "id": "d4ec8216",
   "metadata": {},
   "outputs": [
    {
     "name": "stdout",
     "output_type": "stream",
     "text": [
      "Hello\n",
      "Happy birthday\n"
     ]
    }
   ],
   "source": [
    "def printHb():\n",
    "    print(\"Happy birthday\")\n",
    "    \n",
    "print(\"Hello\")\n",
    "printHb() #calling"
   ]
  },
  {
   "cell_type": "code",
   "execution_count": 25,
   "id": "3eacd10b",
   "metadata": {},
   "outputs": [
    {
     "name": "stdout",
     "output_type": "stream",
     "text": [
      "Enter the first number:1\n",
      "Enter the second number:10\n",
      "55\n"
     ]
    }
   ],
   "source": [
    "def suma(a,b):\n",
    "    sum=0\n",
    "    while a<=b:\n",
    "        sum+=a\n",
    "        a+=1\n",
    "    return sum\n",
    "\n",
    "firstNum=int(input(\"Enter the first number:\"))\n",
    "secondNum=int(input(\"Enter the second number:\"))\n",
    "result=suma(firstNum, secondNum)\n",
    "print(result)"
   ]
  },
  {
   "cell_type": "code",
   "execution_count": 28,
   "id": "644769bf",
   "metadata": {},
   "outputs": [
    {
     "name": "stdout",
     "output_type": "stream",
     "text": [
      "Enter the first number:10\n",
      "Enter the second number:50\n",
      "1230\n",
      "Do you wish to continue? (Y/N)y\n",
      "Enter the first number:45\n",
      "Enter the second number:1000\n",
      "499510\n",
      "Do you wish to continue? (Y/N)n\n"
     ]
    }
   ],
   "source": [
    "def suma(a,b):\n",
    "    sum=0\n",
    "    while a<=b:\n",
    "        sum+=a\n",
    "        a+=1\n",
    "    return sum\n",
    "\n",
    "choice='y'\n",
    "while choice=='y' or choice=='Y':\n",
    "    firstNum=int(input(\"Enter the first number:\"))\n",
    "    secondNum=int(input(\"Enter the second number:\"))\n",
    "    result=suma(firstNum, secondNum)\n",
    "    print(result)\n",
    "    choice=input(\"Do you wish to continue? (Y/N)\")"
   ]
  },
  {
   "cell_type": "code",
   "execution_count": null,
   "id": "2fbc28b1",
   "metadata": {},
   "outputs": [],
   "source": []
  }
 ],
 "metadata": {
  "kernelspec": {
   "display_name": "Python 3 (ipykernel)",
   "language": "python",
   "name": "python3"
  },
  "language_info": {
   "codemirror_mode": {
    "name": "ipython",
    "version": 3
   },
   "file_extension": ".py",
   "mimetype": "text/x-python",
   "name": "python",
   "nbconvert_exporter": "python",
   "pygments_lexer": "ipython3",
   "version": "3.9.12"
  }
 },
 "nbformat": 4,
 "nbformat_minor": 5
}
